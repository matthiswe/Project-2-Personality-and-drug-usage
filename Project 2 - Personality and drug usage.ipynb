{
 "cells": [
  {
   "cell_type": "markdown",
   "metadata": {},
   "source": [
    "# Drug Risk Analysis "
   ]
  },
  {
   "cell_type": "markdown",
   "metadata": {},
   "source": [
    "## Introduction\n",
    "\n",
    "This project aims at unraveling the relationship between personality traits and drug consumption. First, the normalized data is coded into more apprehensible categories. Next we will explore the data to get an overview and a deeper understanding of it.\n",
    "After that we will discuss a selection of business cases we decided to develop. Since this project is for training purposes and there are already a lot of good analyses online, we opted for a more lighthearted approach."
   ]
  },
  {
   "cell_type": "markdown",
   "metadata": {},
   "source": [
    "## About the data set\n",
    "\n",
    "The data set can be found [here](https://archive.ics.uci.edu/ml/datasets/Drug+consumption+%28quantified%29) (07/01/2020).\n",
    "The link includes the following description:\n",
    "\n",
    "\"Database contains records for 1885 respondents. For each respondent 12 attributes are known: Personality measurements which include NEO-FFI-R (neuroticism, extraversion, openness to experience, agreeableness, and conscientiousness), BIS-11 (impulsivity), and ImpSS (sensation seeking), level of education, age, gender, country of residence and ethnicity. All input attributes are originally categorical and are quantified. After quantification values of all input features can be considered as real-valued. In addition, participants were questioned concerning their use of 18 legal and illegal drugs (alcohol, amphetamines, amyl nitrite, benzodiazepine, cannabis, chocolate, cocaine, caffeine, crack, ecstasy, heroin, ketamine, legal highs, LSD, methadone, mushrooms, nicotine and volatile substance abuse and one fictitious drug (Semeron) which was introduced to identify over-claimers. For each drug they have to select one of the answers: never used the drug, used it over a decade ago, or in the last decade, year, month, week, or day.\n",
    "Database contains 18 classification problems. Each of independent label variables contains seven classes: \"Never Used\", \"Used over a Decade Ago\", \"Used in Last Decade\", \"Used in Last Year\", \"Used in Last Month\", \"Used in Last Week\", and \"Used in Last Day\".\"\n",
    "\n"
   ]
  },
  {
   "cell_type": "markdown",
   "metadata": {},
   "source": [
    "## Variables\n",
    "ordinal, ratio, nominal, dichotomus\n",
    "\n",
    "|Variable|Definition|Key|Type|\n",
    "|:-------|:---------|:--------|:--------|\n",
    "|age|Groups of age range|0=18-24, 1=25-34, 2=35-44, 3=45-54, 4=55-64, 5=65+|ordinal|\n",
    "|gender|sex of participant|0=Female, 1 =Male|dichotomous|\n",
    "|education|Educational level of the participant|Left school before 16 years, Left school at 16 years, Left school at 17 years, Left school at 18 years, Some college or university, no certificate or degree, Professional certificate/ diploma, University degree, Masters degree, Doctorate degree|ordinal|\n",
    "|country|Country of current residence of the participant|Australia, Canada, New Zealand, Other, Republic of Ireland, UK, USA|categorical|\n",
    "|ethnicity|Ethnicity of the participant|Asian, Black, Mixed-Black/Asian, Mixed-White/Asian, Mixed-White/Black, Other, White|categorical|\n",
    "|Nscore|NEO-FFI-R test neuroticism|Scale from 1 to 60|ordinal|\n",
    "|Escore|NEO-FFI-R test extraversion|Scale from 1 to 60|ordinal|\n",
    "|Oscore|NEO-FFI-R test openness to experience|Scale from 1 to 60|ordinal|\n",
    "|Ascore|NEO-FFI-R test agreeableness|Scale from 1 to 60|ordinal|\n",
    "|Cscore|NEO-FFI-R test conscientiousness|Scale from 1 to 60|ordinal|\n",
    "|impulsiveness|Impulsiveness measured by BIS-11|Groups from 1 to 12|ordinal|\n",
    "|ss|sensation seeking measured by ImpSS|Groups from 1 to 12|ordinal|\n",
    "|drug|18 different substances  with frequency of usage|0=Never Used, 1=Used over a Decade Ago, 2=Used in Last Decade, 3=Used in Last Year, 4=Used in Last Month, 5=Used in Last Week, 6=Used in Last Day|ordinal|\n",
    "|drug_user|18 different substances with binary variable for usage|0=no usage, 1=usage|dichotomous|\n"
   ]
  },
  {
   "cell_type": "code",
   "execution_count": 44,
   "metadata": {
    "ExecuteTime": {
     "end_time": "2020-07-05T13:12:05.849743Z",
     "start_time": "2020-07-05T13:12:03.965525Z"
    }
   },
   "outputs": [],
   "source": [
    "import pandas as pd\n",
    "import itertools\n",
    "import matplotlib.pyplot as plt\n",
    "import networkx as nx\n",
    "import numpy as np\n",
    "import seaborn as sns\n",
    "\n",
    "from math import pi\n",
    "from sklearn.preprocessing import OneHotEncoder, StandardScaler, OrdinalEncoder\n",
    "from sklearn.model_selection import train_test_split,cross_val_predict, cross_val_score, cross_validate\n",
    "from sklearn.linear_model import LogisticRegression\n",
    "from sklearn.ensemble import GradientBoostingClassifier, GradientBoostingRegressor,AdaBoostClassifier ,RandomForestClassifier\n",
    "from sklearn.pipeline import Pipeline\n",
    "from sklearn.impute import SimpleImputer\n",
    "from sklearn.compose import ColumnTransformer\n",
    "from sklearn.metrics import roc_curve, confusion_matrix, accuracy_score, recall_score, precision_score\n",
    "from sklearn.metrics import classification_report, r2_score, mean_squared_error\n",
    "from sklearn.neighbors import KNeighborsClassifier\n",
    "from sklearn.svm import SVC\n",
    "from sklearn.naive_bayes import GaussianNB \n",
    "from sklearn.tree import DecisionTreeClassifier\n",
    "from sklearn.model_selection import GridSearchCV, RandomizedSearchCV\n",
    "from imblearn.over_sampling import SMOTE\n",
    "from imblearn.under_sampling import RandomUnderSampler\n",
    "from sklearn.metrics import plot_confusion_matrix\n",
    "\n",
    "%matplotlib inline"
   ]
  },
  {
   "cell_type": "markdown",
   "metadata": {},
   "source": [
    "## Data Cleaning"
   ]
  },
  {
   "cell_type": "markdown",
   "metadata": {},
   "source": [
    "Even though the data is comprehensive we decided to not use some of the data. Also we had to translate the normalized data into more apprehensible categories."
   ]
  },
  {
   "cell_type": "code",
   "execution_count": 4,
   "metadata": {
    "ExecuteTime": {
     "end_time": "2020-07-05T13:08:24.953585Z",
     "start_time": "2020-07-05T13:08:24.719497Z"
    }
   },
   "outputs": [],
   "source": [
    "df = pd.read_excel('Drug_Risk.xls')"
   ]
  },
  {
   "cell_type": "code",
   "execution_count": 5,
   "metadata": {
    "ExecuteTime": {
     "end_time": "2020-07-05T13:08:24.960123Z",
     "start_time": "2020-07-05T13:08:24.955841Z"
    }
   },
   "outputs": [
    {
     "data": {
      "text/plain": [
       "(1885, 32)"
      ]
     },
     "execution_count": 5,
     "metadata": {},
     "output_type": "execute_result"
    }
   ],
   "source": [
    "df.shape"
   ]
  },
  {
   "cell_type": "code",
   "execution_count": 6,
   "metadata": {
    "ExecuteTime": {
     "end_time": "2020-07-05T13:08:24.964656Z",
     "start_time": "2020-07-05T13:08:24.961747Z"
    }
   },
   "outputs": [],
   "source": [
    "df.columns = [c.lower() for c in df.columns] #changes all titles to lower case letters, this is the way."
   ]
  },
  {
   "cell_type": "code",
   "execution_count": 7,
   "metadata": {
    "ExecuteTime": {
     "end_time": "2020-07-05T13:08:24.988698Z",
     "start_time": "2020-07-05T13:08:24.966014Z"
    }
   },
   "outputs": [
    {
     "data": {
      "text/html": [
       "<div>\n",
       "<style scoped>\n",
       "    .dataframe tbody tr th:only-of-type {\n",
       "        vertical-align: middle;\n",
       "    }\n",
       "\n",
       "    .dataframe tbody tr th {\n",
       "        vertical-align: top;\n",
       "    }\n",
       "\n",
       "    .dataframe thead th {\n",
       "        text-align: right;\n",
       "    }\n",
       "</style>\n",
       "<table border=\"1\" class=\"dataframe\">\n",
       "  <thead>\n",
       "    <tr style=\"text-align: right;\">\n",
       "      <th></th>\n",
       "      <th>id</th>\n",
       "      <th>age</th>\n",
       "      <th>gender</th>\n",
       "      <th>education</th>\n",
       "      <th>country</th>\n",
       "      <th>ethnicity</th>\n",
       "      <th>nscore</th>\n",
       "      <th>escore</th>\n",
       "      <th>oscore</th>\n",
       "      <th>ascore</th>\n",
       "      <th>...</th>\n",
       "      <th>ecstasy</th>\n",
       "      <th>heroin</th>\n",
       "      <th>ketamine</th>\n",
       "      <th>legalh</th>\n",
       "      <th>lsd</th>\n",
       "      <th>meth</th>\n",
       "      <th>shrooms</th>\n",
       "      <th>nicotine</th>\n",
       "      <th>semer</th>\n",
       "      <th>vsa</th>\n",
       "    </tr>\n",
       "  </thead>\n",
       "  <tbody>\n",
       "    <tr>\n",
       "      <th>0</th>\n",
       "      <td>1</td>\n",
       "      <td>0.49788</td>\n",
       "      <td>0.48246</td>\n",
       "      <td>-0.05921</td>\n",
       "      <td>0.96082</td>\n",
       "      <td>0.12600</td>\n",
       "      <td>0.31287</td>\n",
       "      <td>-0.57545</td>\n",
       "      <td>-0.58331</td>\n",
       "      <td>-0.91699</td>\n",
       "      <td>...</td>\n",
       "      <td>CL0</td>\n",
       "      <td>CL0</td>\n",
       "      <td>CL0</td>\n",
       "      <td>CL0</td>\n",
       "      <td>CL0</td>\n",
       "      <td>CL0</td>\n",
       "      <td>CL0</td>\n",
       "      <td>CL2</td>\n",
       "      <td>CL0</td>\n",
       "      <td>CL0</td>\n",
       "    </tr>\n",
       "    <tr>\n",
       "      <th>1</th>\n",
       "      <td>2</td>\n",
       "      <td>-0.07854</td>\n",
       "      <td>-0.48246</td>\n",
       "      <td>1.98437</td>\n",
       "      <td>0.96082</td>\n",
       "      <td>-0.31685</td>\n",
       "      <td>-0.67825</td>\n",
       "      <td>1.93886</td>\n",
       "      <td>1.43533</td>\n",
       "      <td>0.76096</td>\n",
       "      <td>...</td>\n",
       "      <td>CL4</td>\n",
       "      <td>CL0</td>\n",
       "      <td>CL2</td>\n",
       "      <td>CL0</td>\n",
       "      <td>CL2</td>\n",
       "      <td>CL3</td>\n",
       "      <td>CL0</td>\n",
       "      <td>CL4</td>\n",
       "      <td>CL0</td>\n",
       "      <td>CL0</td>\n",
       "    </tr>\n",
       "    <tr>\n",
       "      <th>2</th>\n",
       "      <td>3</td>\n",
       "      <td>0.49788</td>\n",
       "      <td>-0.48246</td>\n",
       "      <td>-0.05921</td>\n",
       "      <td>0.96082</td>\n",
       "      <td>-0.31685</td>\n",
       "      <td>-0.46725</td>\n",
       "      <td>0.80523</td>\n",
       "      <td>-0.84732</td>\n",
       "      <td>-1.62090</td>\n",
       "      <td>...</td>\n",
       "      <td>CL0</td>\n",
       "      <td>CL0</td>\n",
       "      <td>CL0</td>\n",
       "      <td>CL0</td>\n",
       "      <td>CL0</td>\n",
       "      <td>CL0</td>\n",
       "      <td>CL1</td>\n",
       "      <td>CL0</td>\n",
       "      <td>CL0</td>\n",
       "      <td>CL0</td>\n",
       "    </tr>\n",
       "    <tr>\n",
       "      <th>3</th>\n",
       "      <td>4</td>\n",
       "      <td>-0.95197</td>\n",
       "      <td>0.48246</td>\n",
       "      <td>1.16365</td>\n",
       "      <td>0.96082</td>\n",
       "      <td>-0.31685</td>\n",
       "      <td>-0.14882</td>\n",
       "      <td>-0.80615</td>\n",
       "      <td>-0.01928</td>\n",
       "      <td>0.59042</td>\n",
       "      <td>...</td>\n",
       "      <td>CL0</td>\n",
       "      <td>CL0</td>\n",
       "      <td>CL2</td>\n",
       "      <td>CL0</td>\n",
       "      <td>CL0</td>\n",
       "      <td>CL0</td>\n",
       "      <td>CL0</td>\n",
       "      <td>CL2</td>\n",
       "      <td>CL0</td>\n",
       "      <td>CL0</td>\n",
       "    </tr>\n",
       "    <tr>\n",
       "      <th>4</th>\n",
       "      <td>5</td>\n",
       "      <td>0.49788</td>\n",
       "      <td>0.48246</td>\n",
       "      <td>1.98437</td>\n",
       "      <td>0.96082</td>\n",
       "      <td>-0.31685</td>\n",
       "      <td>0.73545</td>\n",
       "      <td>-1.63340</td>\n",
       "      <td>-0.45174</td>\n",
       "      <td>-0.30172</td>\n",
       "      <td>...</td>\n",
       "      <td>CL1</td>\n",
       "      <td>CL0</td>\n",
       "      <td>CL0</td>\n",
       "      <td>CL1</td>\n",
       "      <td>CL0</td>\n",
       "      <td>CL0</td>\n",
       "      <td>CL2</td>\n",
       "      <td>CL2</td>\n",
       "      <td>CL0</td>\n",
       "      <td>CL0</td>\n",
       "    </tr>\n",
       "  </tbody>\n",
       "</table>\n",
       "<p>5 rows × 32 columns</p>\n",
       "</div>"
      ],
      "text/plain": [
       "   id      age   gender  education  country  ethnicity   nscore   escore  \\\n",
       "0   1  0.49788  0.48246   -0.05921  0.96082    0.12600  0.31287 -0.57545   \n",
       "1   2 -0.07854 -0.48246    1.98437  0.96082   -0.31685 -0.67825  1.93886   \n",
       "2   3  0.49788 -0.48246   -0.05921  0.96082   -0.31685 -0.46725  0.80523   \n",
       "3   4 -0.95197  0.48246    1.16365  0.96082   -0.31685 -0.14882 -0.80615   \n",
       "4   5  0.49788  0.48246    1.98437  0.96082   -0.31685  0.73545 -1.63340   \n",
       "\n",
       "    oscore   ascore  ...  ecstasy  heroin  ketamine legalh  lsd meth shrooms  \\\n",
       "0 -0.58331 -0.91699  ...      CL0     CL0       CL0    CL0  CL0  CL0     CL0   \n",
       "1  1.43533  0.76096  ...      CL4     CL0       CL2    CL0  CL2  CL3     CL0   \n",
       "2 -0.84732 -1.62090  ...      CL0     CL0       CL0    CL0  CL0  CL0     CL1   \n",
       "3 -0.01928  0.59042  ...      CL0     CL0       CL2    CL0  CL0  CL0     CL0   \n",
       "4 -0.45174 -0.30172  ...      CL1     CL0       CL0    CL1  CL0  CL0     CL2   \n",
       "\n",
       "  nicotine semer  vsa  \n",
       "0      CL2   CL0  CL0  \n",
       "1      CL4   CL0  CL0  \n",
       "2      CL0   CL0  CL0  \n",
       "3      CL2   CL0  CL0  \n",
       "4      CL2   CL0  CL0  \n",
       "\n",
       "[5 rows x 32 columns]"
      ]
     },
     "execution_count": 7,
     "metadata": {},
     "output_type": "execute_result"
    }
   ],
   "source": [
    "df.head()"
   ]
  },
  {
   "cell_type": "markdown",
   "metadata": {},
   "source": [
    "Semeron is a made up substance to test if Participants are exxagerating their consumption.\n",
    "There a 8 participants that claimed to use Semeron. They can be filtered out since their other replies are not reliable either.\n",
    "Notice that six of them are between 18 and 24 years old."
   ]
  },
  {
   "cell_type": "code",
   "execution_count": 8,
   "metadata": {
    "ExecuteTime": {
     "end_time": "2020-07-05T13:08:26.378465Z",
     "start_time": "2020-07-05T13:08:26.351721Z"
    }
   },
   "outputs": [
    {
     "data": {
      "text/html": [
       "<div>\n",
       "<style scoped>\n",
       "    .dataframe tbody tr th:only-of-type {\n",
       "        vertical-align: middle;\n",
       "    }\n",
       "\n",
       "    .dataframe tbody tr th {\n",
       "        vertical-align: top;\n",
       "    }\n",
       "\n",
       "    .dataframe thead th {\n",
       "        text-align: right;\n",
       "    }\n",
       "</style>\n",
       "<table border=\"1\" class=\"dataframe\">\n",
       "  <thead>\n",
       "    <tr style=\"text-align: right;\">\n",
       "      <th></th>\n",
       "      <th>id</th>\n",
       "      <th>age</th>\n",
       "      <th>gender</th>\n",
       "      <th>education</th>\n",
       "      <th>country</th>\n",
       "      <th>ethnicity</th>\n",
       "      <th>nscore</th>\n",
       "      <th>escore</th>\n",
       "      <th>oscore</th>\n",
       "      <th>ascore</th>\n",
       "      <th>...</th>\n",
       "      <th>ecstasy</th>\n",
       "      <th>heroin</th>\n",
       "      <th>ketamine</th>\n",
       "      <th>legalh</th>\n",
       "      <th>lsd</th>\n",
       "      <th>meth</th>\n",
       "      <th>shrooms</th>\n",
       "      <th>nicotine</th>\n",
       "      <th>semer</th>\n",
       "      <th>vsa</th>\n",
       "    </tr>\n",
       "  </thead>\n",
       "  <tbody>\n",
       "    <tr>\n",
       "      <th>727</th>\n",
       "      <td>730</td>\n",
       "      <td>-0.07854</td>\n",
       "      <td>0.48246</td>\n",
       "      <td>-1.73790</td>\n",
       "      <td>-0.09765</td>\n",
       "      <td>-0.31685</td>\n",
       "      <td>-0.58016</td>\n",
       "      <td>0.32197</td>\n",
       "      <td>0.14143</td>\n",
       "      <td>-0.60633</td>\n",
       "      <td>...</td>\n",
       "      <td>CL2</td>\n",
       "      <td>CL2</td>\n",
       "      <td>CL2</td>\n",
       "      <td>CL0</td>\n",
       "      <td>CL4</td>\n",
       "      <td>CL2</td>\n",
       "      <td>CL6</td>\n",
       "      <td>CL6</td>\n",
       "      <td>CL2</td>\n",
       "      <td>CL2</td>\n",
       "    </tr>\n",
       "    <tr>\n",
       "      <th>817</th>\n",
       "      <td>821</td>\n",
       "      <td>-0.95197</td>\n",
       "      <td>-0.48246</td>\n",
       "      <td>-0.61113</td>\n",
       "      <td>-0.09765</td>\n",
       "      <td>-0.50212</td>\n",
       "      <td>-0.67825</td>\n",
       "      <td>1.74091</td>\n",
       "      <td>0.72330</td>\n",
       "      <td>0.13136</td>\n",
       "      <td>...</td>\n",
       "      <td>CL3</td>\n",
       "      <td>CL0</td>\n",
       "      <td>CL0</td>\n",
       "      <td>CL0</td>\n",
       "      <td>CL5</td>\n",
       "      <td>CL0</td>\n",
       "      <td>CL5</td>\n",
       "      <td>CL4</td>\n",
       "      <td>CL3</td>\n",
       "      <td>CL0</td>\n",
       "    </tr>\n",
       "    <tr>\n",
       "      <th>1516</th>\n",
       "      <td>1520</td>\n",
       "      <td>-0.95197</td>\n",
       "      <td>-0.48246</td>\n",
       "      <td>-0.61113</td>\n",
       "      <td>-0.57009</td>\n",
       "      <td>-0.31685</td>\n",
       "      <td>-0.24649</td>\n",
       "      <td>-0.80615</td>\n",
       "      <td>-1.27553</td>\n",
       "      <td>-1.34289</td>\n",
       "      <td>...</td>\n",
       "      <td>CL1</td>\n",
       "      <td>CL2</td>\n",
       "      <td>CL1</td>\n",
       "      <td>CL2</td>\n",
       "      <td>CL1</td>\n",
       "      <td>CL2</td>\n",
       "      <td>CL4</td>\n",
       "      <td>CL2</td>\n",
       "      <td>CL3</td>\n",
       "      <td>CL1</td>\n",
       "    </tr>\n",
       "    <tr>\n",
       "      <th>1533</th>\n",
       "      <td>1537</td>\n",
       "      <td>-0.95197</td>\n",
       "      <td>0.48246</td>\n",
       "      <td>-0.61113</td>\n",
       "      <td>-0.57009</td>\n",
       "      <td>0.11440</td>\n",
       "      <td>-0.46725</td>\n",
       "      <td>0.80523</td>\n",
       "      <td>0.29338</td>\n",
       "      <td>2.03972</td>\n",
       "      <td>...</td>\n",
       "      <td>CL4</td>\n",
       "      <td>CL0</td>\n",
       "      <td>CL4</td>\n",
       "      <td>CL3</td>\n",
       "      <td>CL2</td>\n",
       "      <td>CL0</td>\n",
       "      <td>CL3</td>\n",
       "      <td>CL4</td>\n",
       "      <td>CL4</td>\n",
       "      <td>CL3</td>\n",
       "    </tr>\n",
       "    <tr>\n",
       "      <th>1698</th>\n",
       "      <td>1702</td>\n",
       "      <td>0.49788</td>\n",
       "      <td>0.48246</td>\n",
       "      <td>0.45468</td>\n",
       "      <td>-0.57009</td>\n",
       "      <td>-0.31685</td>\n",
       "      <td>1.98437</td>\n",
       "      <td>-0.80615</td>\n",
       "      <td>2.15324</td>\n",
       "      <td>0.76096</td>\n",
       "      <td>...</td>\n",
       "      <td>CL2</td>\n",
       "      <td>CL0</td>\n",
       "      <td>CL2</td>\n",
       "      <td>CL2</td>\n",
       "      <td>CL2</td>\n",
       "      <td>CL0</td>\n",
       "      <td>CL2</td>\n",
       "      <td>CL6</td>\n",
       "      <td>CL2</td>\n",
       "      <td>CL0</td>\n",
       "    </tr>\n",
       "    <tr>\n",
       "      <th>1769</th>\n",
       "      <td>1773</td>\n",
       "      <td>-0.95197</td>\n",
       "      <td>-0.48246</td>\n",
       "      <td>-1.22751</td>\n",
       "      <td>-0.57009</td>\n",
       "      <td>-0.22166</td>\n",
       "      <td>-0.34799</td>\n",
       "      <td>1.28610</td>\n",
       "      <td>1.06238</td>\n",
       "      <td>-0.01729</td>\n",
       "      <td>...</td>\n",
       "      <td>CL3</td>\n",
       "      <td>CL0</td>\n",
       "      <td>CL4</td>\n",
       "      <td>CL3</td>\n",
       "      <td>CL6</td>\n",
       "      <td>CL3</td>\n",
       "      <td>CL3</td>\n",
       "      <td>CL3</td>\n",
       "      <td>CL1</td>\n",
       "      <td>CL3</td>\n",
       "    </tr>\n",
       "    <tr>\n",
       "      <th>1806</th>\n",
       "      <td>1810</td>\n",
       "      <td>-0.95197</td>\n",
       "      <td>0.48246</td>\n",
       "      <td>-1.43719</td>\n",
       "      <td>-0.57009</td>\n",
       "      <td>-0.31685</td>\n",
       "      <td>1.23461</td>\n",
       "      <td>1.11406</td>\n",
       "      <td>1.06238</td>\n",
       "      <td>-1.47955</td>\n",
       "      <td>...</td>\n",
       "      <td>CL4</td>\n",
       "      <td>CL2</td>\n",
       "      <td>CL1</td>\n",
       "      <td>CL4</td>\n",
       "      <td>CL1</td>\n",
       "      <td>CL0</td>\n",
       "      <td>CL1</td>\n",
       "      <td>CL6</td>\n",
       "      <td>CL1</td>\n",
       "      <td>CL2</td>\n",
       "    </tr>\n",
       "    <tr>\n",
       "      <th>1823</th>\n",
       "      <td>1827</td>\n",
       "      <td>-0.95197</td>\n",
       "      <td>0.48246</td>\n",
       "      <td>0.45468</td>\n",
       "      <td>-0.57009</td>\n",
       "      <td>-0.31685</td>\n",
       "      <td>0.22393</td>\n",
       "      <td>-0.30033</td>\n",
       "      <td>0.88309</td>\n",
       "      <td>1.28610</td>\n",
       "      <td>...</td>\n",
       "      <td>CL0</td>\n",
       "      <td>CL0</td>\n",
       "      <td>CL0</td>\n",
       "      <td>CL2</td>\n",
       "      <td>CL3</td>\n",
       "      <td>CL0</td>\n",
       "      <td>CL3</td>\n",
       "      <td>CL5</td>\n",
       "      <td>CL2</td>\n",
       "      <td>CL0</td>\n",
       "    </tr>\n",
       "  </tbody>\n",
       "</table>\n",
       "<p>8 rows × 32 columns</p>\n",
       "</div>"
      ],
      "text/plain": [
       "        id      age   gender  education  country  ethnicity   nscore   escore  \\\n",
       "727    730 -0.07854  0.48246   -1.73790 -0.09765   -0.31685 -0.58016  0.32197   \n",
       "817    821 -0.95197 -0.48246   -0.61113 -0.09765   -0.50212 -0.67825  1.74091   \n",
       "1516  1520 -0.95197 -0.48246   -0.61113 -0.57009   -0.31685 -0.24649 -0.80615   \n",
       "1533  1537 -0.95197  0.48246   -0.61113 -0.57009    0.11440 -0.46725  0.80523   \n",
       "1698  1702  0.49788  0.48246    0.45468 -0.57009   -0.31685  1.98437 -0.80615   \n",
       "1769  1773 -0.95197 -0.48246   -1.22751 -0.57009   -0.22166 -0.34799  1.28610   \n",
       "1806  1810 -0.95197  0.48246   -1.43719 -0.57009   -0.31685  1.23461  1.11406   \n",
       "1823  1827 -0.95197  0.48246    0.45468 -0.57009   -0.31685  0.22393 -0.30033   \n",
       "\n",
       "       oscore   ascore  ...  ecstasy  heroin  ketamine legalh  lsd meth  \\\n",
       "727   0.14143 -0.60633  ...      CL2     CL2       CL2    CL0  CL4  CL2   \n",
       "817   0.72330  0.13136  ...      CL3     CL0       CL0    CL0  CL5  CL0   \n",
       "1516 -1.27553 -1.34289  ...      CL1     CL2       CL1    CL2  CL1  CL2   \n",
       "1533  0.29338  2.03972  ...      CL4     CL0       CL4    CL3  CL2  CL0   \n",
       "1698  2.15324  0.76096  ...      CL2     CL0       CL2    CL2  CL2  CL0   \n",
       "1769  1.06238 -0.01729  ...      CL3     CL0       CL4    CL3  CL6  CL3   \n",
       "1806  1.06238 -1.47955  ...      CL4     CL2       CL1    CL4  CL1  CL0   \n",
       "1823  0.88309  1.28610  ...      CL0     CL0       CL0    CL2  CL3  CL0   \n",
       "\n",
       "     shrooms nicotine semer  vsa  \n",
       "727      CL6      CL6   CL2  CL2  \n",
       "817      CL5      CL4   CL3  CL0  \n",
       "1516     CL4      CL2   CL3  CL1  \n",
       "1533     CL3      CL4   CL4  CL3  \n",
       "1698     CL2      CL6   CL2  CL0  \n",
       "1769     CL3      CL3   CL1  CL3  \n",
       "1806     CL1      CL6   CL1  CL2  \n",
       "1823     CL3      CL5   CL2  CL0  \n",
       "\n",
       "[8 rows x 32 columns]"
      ]
     },
     "execution_count": 8,
     "metadata": {},
     "output_type": "execute_result"
    }
   ],
   "source": [
    "df[df.semer != 'CL0']"
   ]
  },
  {
   "cell_type": "code",
   "execution_count": 9,
   "metadata": {
    "ExecuteTime": {
     "end_time": "2020-07-05T13:08:26.570625Z",
     "start_time": "2020-07-05T13:08:26.565973Z"
    }
   },
   "outputs": [],
   "source": [
    "df = df[df.semer == 'CL0'] #deletes the information about the participants that overclaimed their substance uses"
   ]
  },
  {
   "cell_type": "code",
   "execution_count": 10,
   "metadata": {
    "ExecuteTime": {
     "end_time": "2020-07-05T13:08:26.807408Z",
     "start_time": "2020-07-05T13:08:26.794693Z"
    }
   },
   "outputs": [
    {
     "name": "stdout",
     "output_type": "stream",
     "text": [
      "<class 'pandas.core.frame.DataFrame'>\n",
      "Int64Index: 1877 entries, 0 to 1884\n",
      "Data columns (total 32 columns):\n",
      "id           1877 non-null int64\n",
      "age          1877 non-null float64\n",
      "gender       1877 non-null float64\n",
      "education    1877 non-null float64\n",
      "country      1877 non-null float64\n",
      "ethnicity    1877 non-null float64\n",
      "nscore       1877 non-null float64\n",
      "escore       1877 non-null float64\n",
      "oscore       1877 non-null float64\n",
      "ascore       1877 non-null float64\n",
      "cscore       1877 non-null float64\n",
      "impulsive    1877 non-null float64\n",
      "ss           1877 non-null float64\n",
      "alcohol      1877 non-null object\n",
      "amphet       1877 non-null object\n",
      "amyl         1877 non-null object\n",
      "benzos       1877 non-null object\n",
      "caff         1877 non-null object\n",
      "cannabis     1877 non-null object\n",
      "choc         1877 non-null object\n",
      "coke         1877 non-null object\n",
      "crack        1877 non-null object\n",
      "ecstasy      1877 non-null object\n",
      "heroin       1877 non-null object\n",
      "ketamine     1877 non-null object\n",
      "legalh       1877 non-null object\n",
      "lsd          1877 non-null object\n",
      "meth         1877 non-null object\n",
      "shrooms      1877 non-null object\n",
      "nicotine     1877 non-null object\n",
      "semer        1877 non-null object\n",
      "vsa          1877 non-null object\n",
      "dtypes: float64(12), int64(1), object(19)\n",
      "memory usage: 483.9+ KB\n"
     ]
    }
   ],
   "source": [
    "df.info()"
   ]
  },
  {
   "cell_type": "markdown",
   "metadata": {},
   "source": [
    "1877 data points with useful information. Time to make the information readable. For that we use the listing given on the description page."
   ]
  },
  {
   "cell_type": "code",
   "execution_count": 11,
   "metadata": {
    "ExecuteTime": {
     "end_time": "2020-07-05T13:08:27.246841Z",
     "start_time": "2020-07-05T13:08:27.241225Z"
    }
   },
   "outputs": [],
   "source": [
    "dict_age = {'-0.95197': '18-24','-0.07854': '25-34', '0.49788': '35-44','1.09449': '45-54','1.82213': '55-64',\n",
    "            '2.59171': '65+'}\n",
    "\n",
    "dict_sex = {'0.48246':'Female','-0.48246': 'Male'}\n",
    "\n",
    "dict_edu = {'-2.43591': 'left_school','-1.7379': 'left_school','-1.43719': 'left_school_at_17_years',\n",
    "           '-1.22751': 'left_school_at_18 years','-0.61113': 'Some college or university, no certificate or degree',\n",
    "           '-0.05921': 'professional_certificate/ diploma', '0.45468': 'university_degree',\n",
    "           '1.16365': 'masters_degree', '1.98437': 'doctorate_degree'}\n",
    "\n",
    "dict_cou = {'-0.09765': 'Australia', '0.24923': 'Canada', '-0.46841': 'New Zealand', '-0.28519': 'Other',\n",
    "            '0.21128': 'Republic of Ireland','0.96082': 'UK','-0.57009': 'USA'}\n",
    "\n",
    "dict_eth = {'-0.50212':'Asian','-1.10702': 'Black','1.90725': 'Mixed-Black/Asian',\n",
    "            '0.126': 'Mixed-White/Asian','-0.22166' :'Mixed-White/Black','0.1144': 'Other'\n",
    "            ,'-0.31685': 'White'}"
   ]
  },
  {
   "cell_type": "code",
   "execution_count": 12,
   "metadata": {
    "ExecuteTime": {
     "end_time": "2020-07-05T13:08:27.535068Z",
     "start_time": "2020-07-05T13:08:27.482115Z"
    }
   },
   "outputs": [],
   "source": [
    "df.age = [dict_age[str(a)] for a in df.age]\n",
    "df.gender = [dict_sex[str(a)]  for a in df.gender]\n",
    "df.education = [dict_edu[str(a)] for a in df.education]\n",
    "df.country = [dict_cou[str(a)] for a in df.country]\n",
    "df.ethnicity = [dict_eth[str(a)] for a in df.ethnicity]"
   ]
  },
  {
   "cell_type": "code",
   "execution_count": 13,
   "metadata": {
    "ExecuteTime": {
     "end_time": "2020-07-05T13:08:27.734063Z",
     "start_time": "2020-07-05T13:08:27.712019Z"
    }
   },
   "outputs": [
    {
     "data": {
      "text/html": [
       "<div>\n",
       "<style scoped>\n",
       "    .dataframe tbody tr th:only-of-type {\n",
       "        vertical-align: middle;\n",
       "    }\n",
       "\n",
       "    .dataframe tbody tr th {\n",
       "        vertical-align: top;\n",
       "    }\n",
       "\n",
       "    .dataframe thead th {\n",
       "        text-align: right;\n",
       "    }\n",
       "</style>\n",
       "<table border=\"1\" class=\"dataframe\">\n",
       "  <thead>\n",
       "    <tr style=\"text-align: right;\">\n",
       "      <th></th>\n",
       "      <th>id</th>\n",
       "      <th>age</th>\n",
       "      <th>gender</th>\n",
       "      <th>education</th>\n",
       "      <th>country</th>\n",
       "      <th>ethnicity</th>\n",
       "      <th>nscore</th>\n",
       "      <th>escore</th>\n",
       "      <th>oscore</th>\n",
       "      <th>ascore</th>\n",
       "      <th>...</th>\n",
       "      <th>ecstasy</th>\n",
       "      <th>heroin</th>\n",
       "      <th>ketamine</th>\n",
       "      <th>legalh</th>\n",
       "      <th>lsd</th>\n",
       "      <th>meth</th>\n",
       "      <th>shrooms</th>\n",
       "      <th>nicotine</th>\n",
       "      <th>semer</th>\n",
       "      <th>vsa</th>\n",
       "    </tr>\n",
       "  </thead>\n",
       "  <tbody>\n",
       "    <tr>\n",
       "      <th>0</th>\n",
       "      <td>1</td>\n",
       "      <td>35-44</td>\n",
       "      <td>Female</td>\n",
       "      <td>professional_certificate/ diploma</td>\n",
       "      <td>UK</td>\n",
       "      <td>Mixed-White/Asian</td>\n",
       "      <td>0.31287</td>\n",
       "      <td>-0.57545</td>\n",
       "      <td>-0.58331</td>\n",
       "      <td>-0.91699</td>\n",
       "      <td>...</td>\n",
       "      <td>CL0</td>\n",
       "      <td>CL0</td>\n",
       "      <td>CL0</td>\n",
       "      <td>CL0</td>\n",
       "      <td>CL0</td>\n",
       "      <td>CL0</td>\n",
       "      <td>CL0</td>\n",
       "      <td>CL2</td>\n",
       "      <td>CL0</td>\n",
       "      <td>CL0</td>\n",
       "    </tr>\n",
       "    <tr>\n",
       "      <th>1</th>\n",
       "      <td>2</td>\n",
       "      <td>25-34</td>\n",
       "      <td>Male</td>\n",
       "      <td>doctorate_degree</td>\n",
       "      <td>UK</td>\n",
       "      <td>White</td>\n",
       "      <td>-0.67825</td>\n",
       "      <td>1.93886</td>\n",
       "      <td>1.43533</td>\n",
       "      <td>0.76096</td>\n",
       "      <td>...</td>\n",
       "      <td>CL4</td>\n",
       "      <td>CL0</td>\n",
       "      <td>CL2</td>\n",
       "      <td>CL0</td>\n",
       "      <td>CL2</td>\n",
       "      <td>CL3</td>\n",
       "      <td>CL0</td>\n",
       "      <td>CL4</td>\n",
       "      <td>CL0</td>\n",
       "      <td>CL0</td>\n",
       "    </tr>\n",
       "    <tr>\n",
       "      <th>2</th>\n",
       "      <td>3</td>\n",
       "      <td>35-44</td>\n",
       "      <td>Male</td>\n",
       "      <td>professional_certificate/ diploma</td>\n",
       "      <td>UK</td>\n",
       "      <td>White</td>\n",
       "      <td>-0.46725</td>\n",
       "      <td>0.80523</td>\n",
       "      <td>-0.84732</td>\n",
       "      <td>-1.62090</td>\n",
       "      <td>...</td>\n",
       "      <td>CL0</td>\n",
       "      <td>CL0</td>\n",
       "      <td>CL0</td>\n",
       "      <td>CL0</td>\n",
       "      <td>CL0</td>\n",
       "      <td>CL0</td>\n",
       "      <td>CL1</td>\n",
       "      <td>CL0</td>\n",
       "      <td>CL0</td>\n",
       "      <td>CL0</td>\n",
       "    </tr>\n",
       "    <tr>\n",
       "      <th>3</th>\n",
       "      <td>4</td>\n",
       "      <td>18-24</td>\n",
       "      <td>Female</td>\n",
       "      <td>masters_degree</td>\n",
       "      <td>UK</td>\n",
       "      <td>White</td>\n",
       "      <td>-0.14882</td>\n",
       "      <td>-0.80615</td>\n",
       "      <td>-0.01928</td>\n",
       "      <td>0.59042</td>\n",
       "      <td>...</td>\n",
       "      <td>CL0</td>\n",
       "      <td>CL0</td>\n",
       "      <td>CL2</td>\n",
       "      <td>CL0</td>\n",
       "      <td>CL0</td>\n",
       "      <td>CL0</td>\n",
       "      <td>CL0</td>\n",
       "      <td>CL2</td>\n",
       "      <td>CL0</td>\n",
       "      <td>CL0</td>\n",
       "    </tr>\n",
       "    <tr>\n",
       "      <th>4</th>\n",
       "      <td>5</td>\n",
       "      <td>35-44</td>\n",
       "      <td>Female</td>\n",
       "      <td>doctorate_degree</td>\n",
       "      <td>UK</td>\n",
       "      <td>White</td>\n",
       "      <td>0.73545</td>\n",
       "      <td>-1.63340</td>\n",
       "      <td>-0.45174</td>\n",
       "      <td>-0.30172</td>\n",
       "      <td>...</td>\n",
       "      <td>CL1</td>\n",
       "      <td>CL0</td>\n",
       "      <td>CL0</td>\n",
       "      <td>CL1</td>\n",
       "      <td>CL0</td>\n",
       "      <td>CL0</td>\n",
       "      <td>CL2</td>\n",
       "      <td>CL2</td>\n",
       "      <td>CL0</td>\n",
       "      <td>CL0</td>\n",
       "    </tr>\n",
       "  </tbody>\n",
       "</table>\n",
       "<p>5 rows × 32 columns</p>\n",
       "</div>"
      ],
      "text/plain": [
       "   id    age  gender                          education country  \\\n",
       "0   1  35-44  Female  professional_certificate/ diploma      UK   \n",
       "1   2  25-34    Male                   doctorate_degree      UK   \n",
       "2   3  35-44    Male  professional_certificate/ diploma      UK   \n",
       "3   4  18-24  Female                     masters_degree      UK   \n",
       "4   5  35-44  Female                   doctorate_degree      UK   \n",
       "\n",
       "           ethnicity   nscore   escore   oscore   ascore  ...  ecstasy  \\\n",
       "0  Mixed-White/Asian  0.31287 -0.57545 -0.58331 -0.91699  ...      CL0   \n",
       "1              White -0.67825  1.93886  1.43533  0.76096  ...      CL4   \n",
       "2              White -0.46725  0.80523 -0.84732 -1.62090  ...      CL0   \n",
       "3              White -0.14882 -0.80615 -0.01928  0.59042  ...      CL0   \n",
       "4              White  0.73545 -1.63340 -0.45174 -0.30172  ...      CL1   \n",
       "\n",
       "   heroin  ketamine legalh  lsd meth shrooms nicotine semer  vsa  \n",
       "0     CL0       CL0    CL0  CL0  CL0     CL0      CL2   CL0  CL0  \n",
       "1     CL0       CL2    CL0  CL2  CL3     CL0      CL4   CL0  CL0  \n",
       "2     CL0       CL0    CL0  CL0  CL0     CL1      CL0   CL0  CL0  \n",
       "3     CL0       CL2    CL0  CL0  CL0     CL0      CL2   CL0  CL0  \n",
       "4     CL0       CL0    CL1  CL0  CL0     CL2      CL2   CL0  CL0  \n",
       "\n",
       "[5 rows x 32 columns]"
      ]
     },
     "execution_count": 13,
     "metadata": {},
     "output_type": "execute_result"
    }
   ],
   "source": [
    "df.head()"
   ]
  },
  {
   "cell_type": "markdown",
   "metadata": {},
   "source": [
    "Way better! Now we make some collections to call on the data.\n",
    "In addition we define a \"user\" as someone who consumed the substance in the last month, therefore has claimed either CL4 or higher."
   ]
  },
  {
   "cell_type": "code",
   "execution_count": 14,
   "metadata": {
    "ExecuteTime": {
     "end_time": "2020-07-05T13:08:28.201468Z",
     "start_time": "2020-07-05T13:08:28.175931Z"
    }
   },
   "outputs": [],
   "source": [
    "drugs = ['alcohol',\n",
    "       'amphet', 'amyl', 'benzos', 'caff', 'cannabis', 'choc', 'coke', 'crack',\n",
    "       'ecstasy', 'heroin', 'ketamine', 'legalh', 'lsd', 'meth', 'shrooms',\n",
    "       'nicotine', 'semer', 'vsa']\n",
    "\n",
    "for d in drugs:\n",
    "    df[d + '_user'] = [u in ('CL4', 'CL5', 'CL6') for u in df[d]]\n",
    "    \n",
    "drug_labels = ['Alcohol',\n",
    "       'Amphetamines', 'Amyl Nitrite', 'Benzodiazepine', 'Caffeine', 'Cannabis', 'Chocolate', 'Cocaine', 'Crack',\n",
    "       'Ecstasy', 'Heroin', 'Ketamine', 'Legal Highs', 'LSD', 'Methadone', 'Magic Mushrooms',\n",
    "       'Nicotine', 'Volatile Substances']"
   ]
  },
  {
   "cell_type": "code",
   "execution_count": 15,
   "metadata": {
    "ExecuteTime": {
     "end_time": "2020-07-05T13:08:28.424889Z",
     "start_time": "2020-07-05T13:08:28.399914Z"
    }
   },
   "outputs": [
    {
     "data": {
      "text/html": [
       "<div>\n",
       "<style scoped>\n",
       "    .dataframe tbody tr th:only-of-type {\n",
       "        vertical-align: middle;\n",
       "    }\n",
       "\n",
       "    .dataframe tbody tr th {\n",
       "        vertical-align: top;\n",
       "    }\n",
       "\n",
       "    .dataframe thead th {\n",
       "        text-align: right;\n",
       "    }\n",
       "</style>\n",
       "<table border=\"1\" class=\"dataframe\">\n",
       "  <thead>\n",
       "    <tr style=\"text-align: right;\">\n",
       "      <th></th>\n",
       "      <th>alcohol</th>\n",
       "      <th>amphet</th>\n",
       "      <th>amyl</th>\n",
       "      <th>benzos</th>\n",
       "      <th>caff</th>\n",
       "      <th>cannabis</th>\n",
       "      <th>choc</th>\n",
       "      <th>coke</th>\n",
       "      <th>crack</th>\n",
       "      <th>ecstasy</th>\n",
       "      <th>heroin</th>\n",
       "      <th>ketamine</th>\n",
       "      <th>legalh</th>\n",
       "      <th>lsd</th>\n",
       "      <th>meth</th>\n",
       "      <th>shrooms</th>\n",
       "      <th>nicotine</th>\n",
       "      <th>semer</th>\n",
       "      <th>vsa</th>\n",
       "    </tr>\n",
       "  </thead>\n",
       "  <tbody>\n",
       "    <tr>\n",
       "      <th>0</th>\n",
       "      <td>CL5</td>\n",
       "      <td>CL2</td>\n",
       "      <td>CL0</td>\n",
       "      <td>CL2</td>\n",
       "      <td>CL6</td>\n",
       "      <td>CL0</td>\n",
       "      <td>CL5</td>\n",
       "      <td>CL0</td>\n",
       "      <td>CL0</td>\n",
       "      <td>CL0</td>\n",
       "      <td>CL0</td>\n",
       "      <td>CL0</td>\n",
       "      <td>CL0</td>\n",
       "      <td>CL0</td>\n",
       "      <td>CL0</td>\n",
       "      <td>CL0</td>\n",
       "      <td>CL2</td>\n",
       "      <td>CL0</td>\n",
       "      <td>CL0</td>\n",
       "    </tr>\n",
       "    <tr>\n",
       "      <th>1</th>\n",
       "      <td>CL5</td>\n",
       "      <td>CL2</td>\n",
       "      <td>CL2</td>\n",
       "      <td>CL0</td>\n",
       "      <td>CL6</td>\n",
       "      <td>CL4</td>\n",
       "      <td>CL6</td>\n",
       "      <td>CL3</td>\n",
       "      <td>CL0</td>\n",
       "      <td>CL4</td>\n",
       "      <td>CL0</td>\n",
       "      <td>CL2</td>\n",
       "      <td>CL0</td>\n",
       "      <td>CL2</td>\n",
       "      <td>CL3</td>\n",
       "      <td>CL0</td>\n",
       "      <td>CL4</td>\n",
       "      <td>CL0</td>\n",
       "      <td>CL0</td>\n",
       "    </tr>\n",
       "    <tr>\n",
       "      <th>2</th>\n",
       "      <td>CL6</td>\n",
       "      <td>CL0</td>\n",
       "      <td>CL0</td>\n",
       "      <td>CL0</td>\n",
       "      <td>CL6</td>\n",
       "      <td>CL3</td>\n",
       "      <td>CL4</td>\n",
       "      <td>CL0</td>\n",
       "      <td>CL0</td>\n",
       "      <td>CL0</td>\n",
       "      <td>CL0</td>\n",
       "      <td>CL0</td>\n",
       "      <td>CL0</td>\n",
       "      <td>CL0</td>\n",
       "      <td>CL0</td>\n",
       "      <td>CL1</td>\n",
       "      <td>CL0</td>\n",
       "      <td>CL0</td>\n",
       "      <td>CL0</td>\n",
       "    </tr>\n",
       "    <tr>\n",
       "      <th>3</th>\n",
       "      <td>CL4</td>\n",
       "      <td>CL0</td>\n",
       "      <td>CL0</td>\n",
       "      <td>CL3</td>\n",
       "      <td>CL5</td>\n",
       "      <td>CL2</td>\n",
       "      <td>CL4</td>\n",
       "      <td>CL2</td>\n",
       "      <td>CL0</td>\n",
       "      <td>CL0</td>\n",
       "      <td>CL0</td>\n",
       "      <td>CL2</td>\n",
       "      <td>CL0</td>\n",
       "      <td>CL0</td>\n",
       "      <td>CL0</td>\n",
       "      <td>CL0</td>\n",
       "      <td>CL2</td>\n",
       "      <td>CL0</td>\n",
       "      <td>CL0</td>\n",
       "    </tr>\n",
       "    <tr>\n",
       "      <th>4</th>\n",
       "      <td>CL4</td>\n",
       "      <td>CL1</td>\n",
       "      <td>CL1</td>\n",
       "      <td>CL0</td>\n",
       "      <td>CL6</td>\n",
       "      <td>CL3</td>\n",
       "      <td>CL6</td>\n",
       "      <td>CL0</td>\n",
       "      <td>CL0</td>\n",
       "      <td>CL1</td>\n",
       "      <td>CL0</td>\n",
       "      <td>CL0</td>\n",
       "      <td>CL1</td>\n",
       "      <td>CL0</td>\n",
       "      <td>CL0</td>\n",
       "      <td>CL2</td>\n",
       "      <td>CL2</td>\n",
       "      <td>CL0</td>\n",
       "      <td>CL0</td>\n",
       "    </tr>\n",
       "  </tbody>\n",
       "</table>\n",
       "</div>"
      ],
      "text/plain": [
       "  alcohol amphet amyl benzos caff cannabis choc coke crack ecstasy heroin  \\\n",
       "0     CL5    CL2  CL0    CL2  CL6      CL0  CL5  CL0   CL0     CL0    CL0   \n",
       "1     CL5    CL2  CL2    CL0  CL6      CL4  CL6  CL3   CL0     CL4    CL0   \n",
       "2     CL6    CL0  CL0    CL0  CL6      CL3  CL4  CL0   CL0     CL0    CL0   \n",
       "3     CL4    CL0  CL0    CL3  CL5      CL2  CL4  CL2   CL0     CL0    CL0   \n",
       "4     CL4    CL1  CL1    CL0  CL6      CL3  CL6  CL0   CL0     CL1    CL0   \n",
       "\n",
       "  ketamine legalh  lsd meth shrooms nicotine semer  vsa  \n",
       "0      CL0    CL0  CL0  CL0     CL0      CL2   CL0  CL0  \n",
       "1      CL2    CL0  CL2  CL3     CL0      CL4   CL0  CL0  \n",
       "2      CL0    CL0  CL0  CL0     CL1      CL0   CL0  CL0  \n",
       "3      CL2    CL0  CL0  CL0     CL0      CL2   CL0  CL0  \n",
       "4      CL0    CL1  CL0  CL0     CL2      CL2   CL0  CL0  "
      ]
     },
     "execution_count": 15,
     "metadata": {},
     "output_type": "execute_result"
    }
   ],
   "source": [
    "df[drugs].head()"
   ]
  },
  {
   "cell_type": "markdown",
   "metadata": {},
   "source": [
    "Since the last time used is labeled from CL0 to CL6 we can drop the CL and use 0 to 6 instead."
   ]
  },
  {
   "cell_type": "code",
   "execution_count": 16,
   "metadata": {
    "ExecuteTime": {
     "end_time": "2020-07-05T13:08:28.936824Z",
     "start_time": "2020-07-05T13:08:28.899361Z"
    }
   },
   "outputs": [],
   "source": [
    "for d in drugs:\n",
    "    df[d] = [int(c[-1:]) for c in df[d]]"
   ]
  },
  {
   "cell_type": "code",
   "execution_count": 17,
   "metadata": {
    "ExecuteTime": {
     "end_time": "2020-07-05T13:08:30.053305Z",
     "start_time": "2020-07-05T13:08:30.035370Z"
    }
   },
   "outputs": [
    {
     "data": {
      "text/html": [
       "<div>\n",
       "<style scoped>\n",
       "    .dataframe tbody tr th:only-of-type {\n",
       "        vertical-align: middle;\n",
       "    }\n",
       "\n",
       "    .dataframe tbody tr th {\n",
       "        vertical-align: top;\n",
       "    }\n",
       "\n",
       "    .dataframe thead th {\n",
       "        text-align: right;\n",
       "    }\n",
       "</style>\n",
       "<table border=\"1\" class=\"dataframe\">\n",
       "  <thead>\n",
       "    <tr style=\"text-align: right;\">\n",
       "      <th></th>\n",
       "      <th>alcohol</th>\n",
       "      <th>amphet</th>\n",
       "      <th>amyl</th>\n",
       "      <th>benzos</th>\n",
       "      <th>caff</th>\n",
       "      <th>cannabis</th>\n",
       "      <th>choc</th>\n",
       "      <th>coke</th>\n",
       "      <th>crack</th>\n",
       "      <th>ecstasy</th>\n",
       "      <th>heroin</th>\n",
       "      <th>ketamine</th>\n",
       "      <th>legalh</th>\n",
       "      <th>lsd</th>\n",
       "      <th>meth</th>\n",
       "      <th>shrooms</th>\n",
       "      <th>nicotine</th>\n",
       "      <th>semer</th>\n",
       "      <th>vsa</th>\n",
       "    </tr>\n",
       "  </thead>\n",
       "  <tbody>\n",
       "    <tr>\n",
       "      <th>0</th>\n",
       "      <td>5</td>\n",
       "      <td>2</td>\n",
       "      <td>0</td>\n",
       "      <td>2</td>\n",
       "      <td>6</td>\n",
       "      <td>0</td>\n",
       "      <td>5</td>\n",
       "      <td>0</td>\n",
       "      <td>0</td>\n",
       "      <td>0</td>\n",
       "      <td>0</td>\n",
       "      <td>0</td>\n",
       "      <td>0</td>\n",
       "      <td>0</td>\n",
       "      <td>0</td>\n",
       "      <td>0</td>\n",
       "      <td>2</td>\n",
       "      <td>0</td>\n",
       "      <td>0</td>\n",
       "    </tr>\n",
       "    <tr>\n",
       "      <th>1</th>\n",
       "      <td>5</td>\n",
       "      <td>2</td>\n",
       "      <td>2</td>\n",
       "      <td>0</td>\n",
       "      <td>6</td>\n",
       "      <td>4</td>\n",
       "      <td>6</td>\n",
       "      <td>3</td>\n",
       "      <td>0</td>\n",
       "      <td>4</td>\n",
       "      <td>0</td>\n",
       "      <td>2</td>\n",
       "      <td>0</td>\n",
       "      <td>2</td>\n",
       "      <td>3</td>\n",
       "      <td>0</td>\n",
       "      <td>4</td>\n",
       "      <td>0</td>\n",
       "      <td>0</td>\n",
       "    </tr>\n",
       "    <tr>\n",
       "      <th>2</th>\n",
       "      <td>6</td>\n",
       "      <td>0</td>\n",
       "      <td>0</td>\n",
       "      <td>0</td>\n",
       "      <td>6</td>\n",
       "      <td>3</td>\n",
       "      <td>4</td>\n",
       "      <td>0</td>\n",
       "      <td>0</td>\n",
       "      <td>0</td>\n",
       "      <td>0</td>\n",
       "      <td>0</td>\n",
       "      <td>0</td>\n",
       "      <td>0</td>\n",
       "      <td>0</td>\n",
       "      <td>1</td>\n",
       "      <td>0</td>\n",
       "      <td>0</td>\n",
       "      <td>0</td>\n",
       "    </tr>\n",
       "    <tr>\n",
       "      <th>3</th>\n",
       "      <td>4</td>\n",
       "      <td>0</td>\n",
       "      <td>0</td>\n",
       "      <td>3</td>\n",
       "      <td>5</td>\n",
       "      <td>2</td>\n",
       "      <td>4</td>\n",
       "      <td>2</td>\n",
       "      <td>0</td>\n",
       "      <td>0</td>\n",
       "      <td>0</td>\n",
       "      <td>2</td>\n",
       "      <td>0</td>\n",
       "      <td>0</td>\n",
       "      <td>0</td>\n",
       "      <td>0</td>\n",
       "      <td>2</td>\n",
       "      <td>0</td>\n",
       "      <td>0</td>\n",
       "    </tr>\n",
       "    <tr>\n",
       "      <th>4</th>\n",
       "      <td>4</td>\n",
       "      <td>1</td>\n",
       "      <td>1</td>\n",
       "      <td>0</td>\n",
       "      <td>6</td>\n",
       "      <td>3</td>\n",
       "      <td>6</td>\n",
       "      <td>0</td>\n",
       "      <td>0</td>\n",
       "      <td>1</td>\n",
       "      <td>0</td>\n",
       "      <td>0</td>\n",
       "      <td>1</td>\n",
       "      <td>0</td>\n",
       "      <td>0</td>\n",
       "      <td>2</td>\n",
       "      <td>2</td>\n",
       "      <td>0</td>\n",
       "      <td>0</td>\n",
       "    </tr>\n",
       "  </tbody>\n",
       "</table>\n",
       "</div>"
      ],
      "text/plain": [
       "   alcohol  amphet  amyl  benzos  caff  cannabis  choc  coke  crack  ecstasy  \\\n",
       "0        5       2     0       2     6         0     5     0      0        0   \n",
       "1        5       2     2       0     6         4     6     3      0        4   \n",
       "2        6       0     0       0     6         3     4     0      0        0   \n",
       "3        4       0     0       3     5         2     4     2      0        0   \n",
       "4        4       1     1       0     6         3     6     0      0        1   \n",
       "\n",
       "   heroin  ketamine  legalh  lsd  meth  shrooms  nicotine  semer  vsa  \n",
       "0       0         0       0    0     0        0         2      0    0  \n",
       "1       0         2       0    2     3        0         4      0    0  \n",
       "2       0         0       0    0     0        1         0      0    0  \n",
       "3       0         2       0    0     0        0         2      0    0  \n",
       "4       0         0       1    0     0        2         2      0    0  "
      ]
     },
     "execution_count": 17,
     "metadata": {},
     "output_type": "execute_result"
    }
   ],
   "source": [
    "df[drugs].head()"
   ]
  },
  {
   "cell_type": "markdown",
   "metadata": {
    "ExecuteTime": {
     "end_time": "2020-06-26T12:28:06.659935Z",
     "start_time": "2020-06-26T12:28:05.589401Z"
    }
   },
   "source": [
    "Semeron is not real and used for checking if a participant exxagerates his drug habits. It can be dropped."
   ]
  },
  {
   "cell_type": "code",
   "execution_count": 18,
   "metadata": {
    "ExecuteTime": {
     "end_time": "2020-07-05T13:08:30.517198Z",
     "start_time": "2020-07-05T13:08:30.514664Z"
    }
   },
   "outputs": [],
   "source": [
    "drugs.remove('semer')"
   ]
  },
  {
   "cell_type": "markdown",
   "metadata": {},
   "source": [
    "For Plotting we need a translator dictionary."
   ]
  },
  {
   "cell_type": "code",
   "execution_count": 19,
   "metadata": {
    "ExecuteTime": {
     "end_time": "2020-07-05T13:08:30.984645Z",
     "start_time": "2020-07-05T13:08:30.981475Z"
    }
   },
   "outputs": [],
   "source": [
    "drug_dict = {drugs[i]:drug_labels[i] for i in range(len(drugs))}"
   ]
  },
  {
   "cell_type": "markdown",
   "metadata": {},
   "source": [
    "## Connection between substances"
   ]
  },
  {
   "cell_type": "markdown",
   "metadata": {},
   "source": [
    "Which substances are used by the same person?  \n",
    "In order to visualize it, we give every substance a node with the size relative to its frequency of occurrence.\n",
    "Then we simulate a connection between them, that gets stronger with the number of participants that used both substances."
   ]
  },
  {
   "cell_type": "code",
   "execution_count": 20,
   "metadata": {
    "ExecuteTime": {
     "end_time": "2020-07-05T13:08:31.672545Z",
     "start_time": "2020-07-05T13:08:31.665444Z"
    }
   },
   "outputs": [],
   "source": [
    "def plot_networkx_graph(G):\n",
    "    '''\n",
    "    Plots a networkx plot with spring_layout\n",
    "    '''\n",
    "    pos = nx.spring_layout(G, seed = round(pi))\n",
    "    nx.draw_networkx_nodes(G, pos, node_size = list(map(int, nx.get_node_attributes(G, 'size').values())) , alpha = 0.5)\n",
    "    nx.draw_networkx_edges(G, pos, width=0.1)\n",
    "    nx.draw_networkx_labels(G, pos, font_size=10, font_family='sans-serif')\n",
    "\n",
    "    #plt.figure(figsize = (16, 9))\n",
    "    plt.style.use('default')\n",
    "    plt.axis('off')\n",
    "    plt.savefig('graphs/Drug_Correlations.png', bbox_inches = 'tight')\n",
    "    plt.show()"
   ]
  },
  {
   "cell_type": "code",
   "execution_count": 21,
   "metadata": {
    "ExecuteTime": {
     "end_time": "2020-07-05T13:09:54.866828Z",
     "start_time": "2020-07-05T13:08:31.920037Z"
    }
   },
   "outputs": [],
   "source": [
    "G = nx.Graph()\n",
    "\n",
    "G.add_nodes_from([(drug_dict[drug],dict(size =str(df[drug + '_user'][df[drug + '_user']].count()))) for drug in drugs])\n",
    "weights = {}\n",
    "for _, p in df.iterrows():\n",
    "    for c, b in itertools.combinations(drugs, 2):\n",
    "        weights[c + '_' + b] = sum(df[f'{c}_user'][df[f'{b}_user']])\n",
    "\n",
    "G.add_weighted_edges_from([(drug_dict[key.split('_')[0]], drug_dict[key.split('_')[1]], weights[key]) for key in weights.keys()])\n"
   ]
  },
  {
   "cell_type": "code",
   "execution_count": 22,
   "metadata": {
    "ExecuteTime": {
     "end_time": "2020-07-05T13:09:55.245201Z",
     "start_time": "2020-07-05T13:09:54.868804Z"
    }
   },
   "outputs": [
    {
     "data": {
      "image/png": "[encoded data removed]",
      "text/plain": [
       "<Figure size 432x288 with 1 Axes>"
      ]
     },
     "metadata": {},
     "output_type": "display_data"
    }
   ],
   "source": [
    "plot_networkx_graph(G)"
   ]
  },
  {
   "cell_type": "markdown",
   "metadata": {},
   "source": [
    "Can it be improved? The weight should reflect how strongly the use of one drug correlates with the other. If substances are used more often, their over represented in the weight. To fix that we can use rates. What rate of the cannabis user also drink coffee and what percentage of coffee drinkers also use cannabis? Add both and use it as weight."
   ]
  },
  {
   "cell_type": "code",
   "execution_count": 23,
   "metadata": {
    "ExecuteTime": {
     "end_time": "2020-07-05T13:09:55.359780Z",
     "start_time": "2020-07-05T13:09:55.248314Z"
    }
   },
   "outputs": [],
   "source": [
    "adjusted_weights = {}\n",
    "for key in weights.keys():\n",
    "    adjusted_weights[key] = weights[key]*(\n",
    "        (1/df[key.split('_')[0] + '_user'][df[key.split('_')[0] + '_user']].count()) # 1/number of users of first part of key\n",
    "        +(1/df[key.split('_')[1] + '_user'][df[key.split('_')[1] + '_user']].count())) # 1/number of users of second part of key\n",
    "    \n",
    "G.add_weighted_edges_from([(drug_dict[key.split('_')[0]], drug_dict[key.split('_')[1]], adjusted_weights[key]) for key in adjusted_weights.keys()])   "
   ]
  },
  {
   "cell_type": "code",
   "execution_count": 24,
   "metadata": {
    "ExecuteTime": {
     "end_time": "2020-07-05T13:09:55.755805Z",
     "start_time": "2020-07-05T13:09:55.361833Z"
    }
   },
   "outputs": [
    {
     "data": {
      "image/png": "[encoded data removed]",
      "text/plain": [
       "<Figure size 640x480 with 1 Axes>"
      ]
     },
     "metadata": {},
     "output_type": "display_data"
    }
   ],
   "source": [
    "plot_networkx_graph(G)"
   ]
  },
  {
   "cell_type": "markdown",
   "metadata": {},
   "source": [
    "## How does the age influence substance use?"
   ]
  },
  {
   "cell_type": "code",
   "execution_count": 25,
   "metadata": {
    "ExecuteTime": {
     "end_time": "2020-07-05T13:10:26.933314Z",
     "start_time": "2020-07-05T13:10:26.918806Z"
    }
   },
   "outputs": [],
   "source": [
    "for d in drugs:\n",
    "    df[d + '_user'] = df[d + '_user'].astype(int)"
   ]
  },
  {
   "cell_type": "code",
   "execution_count": 26,
   "metadata": {
    "ExecuteTime": {
     "end_time": "2020-07-05T13:10:27.204140Z",
     "start_time": "2020-07-05T13:10:27.186612Z"
    }
   },
   "outputs": [
    {
     "data": {
      "text/html": [
       "<div>\n",
       "<style scoped>\n",
       "    .dataframe tbody tr th:only-of-type {\n",
       "        vertical-align: middle;\n",
       "    }\n",
       "\n",
       "    .dataframe tbody tr th {\n",
       "        vertical-align: top;\n",
       "    }\n",
       "\n",
       "    .dataframe thead th {\n",
       "        text-align: right;\n",
       "    }\n",
       "</style>\n",
       "<table border=\"1\" class=\"dataframe\">\n",
       "  <thead>\n",
       "    <tr style=\"text-align: right;\">\n",
       "      <th></th>\n",
       "      <th>alcohol_user</th>\n",
       "      <th>amphet_user</th>\n",
       "      <th>amyl_user</th>\n",
       "      <th>benzos_user</th>\n",
       "      <th>caff_user</th>\n",
       "      <th>cannabis_user</th>\n",
       "      <th>choc_user</th>\n",
       "      <th>coke_user</th>\n",
       "      <th>crack_user</th>\n",
       "      <th>ecstasy_user</th>\n",
       "      <th>heroin_user</th>\n",
       "      <th>ketamine_user</th>\n",
       "      <th>legalh_user</th>\n",
       "      <th>lsd_user</th>\n",
       "      <th>meth_user</th>\n",
       "      <th>shrooms_user</th>\n",
       "      <th>nicotine_user</th>\n",
       "      <th>vsa_user</th>\n",
       "    </tr>\n",
       "  </thead>\n",
       "  <tbody>\n",
       "    <tr>\n",
       "      <th>0</th>\n",
       "      <td>1</td>\n",
       "      <td>0</td>\n",
       "      <td>0</td>\n",
       "      <td>0</td>\n",
       "      <td>1</td>\n",
       "      <td>0</td>\n",
       "      <td>1</td>\n",
       "      <td>0</td>\n",
       "      <td>0</td>\n",
       "      <td>0</td>\n",
       "      <td>0</td>\n",
       "      <td>0</td>\n",
       "      <td>0</td>\n",
       "      <td>0</td>\n",
       "      <td>0</td>\n",
       "      <td>0</td>\n",
       "      <td>0</td>\n",
       "      <td>0</td>\n",
       "    </tr>\n",
       "    <tr>\n",
       "      <th>1</th>\n",
       "      <td>1</td>\n",
       "      <td>0</td>\n",
       "      <td>0</td>\n",
       "      <td>0</td>\n",
       "      <td>1</td>\n",
       "      <td>1</td>\n",
       "      <td>1</td>\n",
       "      <td>0</td>\n",
       "      <td>0</td>\n",
       "      <td>1</td>\n",
       "      <td>0</td>\n",
       "      <td>0</td>\n",
       "      <td>0</td>\n",
       "      <td>0</td>\n",
       "      <td>0</td>\n",
       "      <td>0</td>\n",
       "      <td>1</td>\n",
       "      <td>0</td>\n",
       "    </tr>\n",
       "    <tr>\n",
       "      <th>2</th>\n",
       "      <td>1</td>\n",
       "      <td>0</td>\n",
       "      <td>0</td>\n",
       "      <td>0</td>\n",
       "      <td>1</td>\n",
       "      <td>0</td>\n",
       "      <td>1</td>\n",
       "      <td>0</td>\n",
       "      <td>0</td>\n",
       "      <td>0</td>\n",
       "      <td>0</td>\n",
       "      <td>0</td>\n",
       "      <td>0</td>\n",
       "      <td>0</td>\n",
       "      <td>0</td>\n",
       "      <td>0</td>\n",
       "      <td>0</td>\n",
       "      <td>0</td>\n",
       "    </tr>\n",
       "    <tr>\n",
       "      <th>3</th>\n",
       "      <td>1</td>\n",
       "      <td>0</td>\n",
       "      <td>0</td>\n",
       "      <td>0</td>\n",
       "      <td>1</td>\n",
       "      <td>0</td>\n",
       "      <td>1</td>\n",
       "      <td>0</td>\n",
       "      <td>0</td>\n",
       "      <td>0</td>\n",
       "      <td>0</td>\n",
       "      <td>0</td>\n",
       "      <td>0</td>\n",
       "      <td>0</td>\n",
       "      <td>0</td>\n",
       "      <td>0</td>\n",
       "      <td>0</td>\n",
       "      <td>0</td>\n",
       "    </tr>\n",
       "    <tr>\n",
       "      <th>4</th>\n",
       "      <td>1</td>\n",
       "      <td>0</td>\n",
       "      <td>0</td>\n",
       "      <td>0</td>\n",
       "      <td>1</td>\n",
       "      <td>0</td>\n",
       "      <td>1</td>\n",
       "      <td>0</td>\n",
       "      <td>0</td>\n",
       "      <td>0</td>\n",
       "      <td>0</td>\n",
       "      <td>0</td>\n",
       "      <td>0</td>\n",
       "      <td>0</td>\n",
       "      <td>0</td>\n",
       "      <td>0</td>\n",
       "      <td>0</td>\n",
       "      <td>0</td>\n",
       "    </tr>\n",
       "  </tbody>\n",
       "</table>\n",
       "</div>"
      ],
      "text/plain": [
       "   alcohol_user  amphet_user  amyl_user  benzos_user  caff_user  \\\n",
       "0             1            0          0            0          1   \n",
       "1             1            0          0            0          1   \n",
       "2             1            0          0            0          1   \n",
       "3             1            0          0            0          1   \n",
       "4             1            0          0            0          1   \n",
       "\n",
       "   cannabis_user  choc_user  coke_user  crack_user  ecstasy_user  heroin_user  \\\n",
       "0              0          1          0           0             0            0   \n",
       "1              1          1          0           0             1            0   \n",
       "2              0          1          0           0             0            0   \n",
       "3              0          1          0           0             0            0   \n",
       "4              0          1          0           0             0            0   \n",
       "\n",
       "   ketamine_user  legalh_user  lsd_user  meth_user  shrooms_user  \\\n",
       "0              0            0         0          0             0   \n",
       "1              0            0         0          0             0   \n",
       "2              0            0         0          0             0   \n",
       "3              0            0         0          0             0   \n",
       "4              0            0         0          0             0   \n",
       "\n",
       "   nicotine_user  vsa_user  \n",
       "0              0         0  \n",
       "1              1         0  \n",
       "2              0         0  \n",
       "3              0         0  \n",
       "4              0         0  "
      ]
     },
     "execution_count": 26,
     "metadata": {},
     "output_type": "execute_result"
    }
   ],
   "source": [
    "df[[d + '_user' for d in drugs]].head()"
   ]
  },
  {
   "cell_type": "code",
   "execution_count": 27,
   "metadata": {
    "ExecuteTime": {
     "end_time": "2020-07-05T13:10:27.715731Z",
     "start_time": "2020-07-05T13:10:27.595575Z"
    }
   },
   "outputs": [],
   "source": [
    "sns.set()\n",
    "sns.set_style('whitegrid')\n",
    "ages = sorted(list(df.age.unique()))\n",
    "drug_user =[d + '_user' for d in drugs]\n",
    "dat = []\n",
    "for age in ages:\n",
    "    dat.append([sum(df[df.age == age][d]) for d in drug_user])"
   ]
  },
  {
   "cell_type": "code",
   "execution_count": 28,
   "metadata": {
    "ExecuteTime": {
     "end_time": "2020-07-05T13:10:28.249472Z",
     "start_time": "2020-07-05T13:10:28.242435Z"
    }
   },
   "outputs": [],
   "source": [
    "plf = pd.DataFrame(data = dat, index = ages, columns = drug_labels)"
   ]
  },
  {
   "cell_type": "code",
   "execution_count": 29,
   "metadata": {
    "ExecuteTime": {
     "end_time": "2020-07-05T13:10:29.493290Z",
     "start_time": "2020-07-05T13:10:28.633563Z"
    }
   },
   "outputs": [
    {
     "data": {
      "image/png": "[encoded data removed]",
      "text/plain": [
       "<Figure size 1200x600 with 1 Axes>"
      ]
     },
     "metadata": {},
     "output_type": "display_data"
    }
   ],
   "source": [
    "age_graph = plf.plot(kind = 'bar', stacked = True, figsize = (12,6))\n",
    "plt.xlabel('Age')\n",
    "plt.ylabel('Uses')\n",
    "plt.title('Number of users in the last month per age group per substance')\n",
    "plt.style.use('seaborn')\n",
    "plt.savefig('graphs/uses_over_age.png', bbox_inches = 'tight')"
   ]
  },
  {
   "cell_type": "markdown",
   "metadata": {},
   "source": [
    "That is hard to read, we'll only show the most important ones and combine the rest in others."
   ]
  },
  {
   "cell_type": "code",
   "execution_count": 30,
   "metadata": {
    "ExecuteTime": {
     "end_time": "2020-07-05T13:10:30.718616Z",
     "start_time": "2020-07-05T13:10:30.708105Z"
    }
   },
   "outputs": [
    {
     "data": {
      "text/plain": [
       "{'alcohol': 1545,\n",
       " 'amphet': 237,\n",
       " 'amyl': 41,\n",
       " 'benzos': 298,\n",
       " 'caff': 1757,\n",
       " 'cannabis': 781,\n",
       " 'choc': 1780,\n",
       " 'coke': 157,\n",
       " 'crack': 20,\n",
       " 'ecstasy': 238,\n",
       " 'heroin': 53,\n",
       " 'ketamine': 77,\n",
       " 'legalh': 240,\n",
       " 'lsd': 163,\n",
       " 'meth': 171,\n",
       " 'shrooms': 156,\n",
       " 'nicotine': 869,\n",
       " 'vsa': 34}"
      ]
     },
     "execution_count": 30,
     "metadata": {},
     "output_type": "execute_result"
    }
   ],
   "source": [
    "drug_freq = {s : sum(df[s + '_user']) for s in drugs}\n",
    "drug_freq"
   ]
  },
  {
   "cell_type": "markdown",
   "metadata": {},
   "source": [
    "## How many people use how many different Substances?"
   ]
  },
  {
   "cell_type": "markdown",
   "metadata": {},
   "source": [
    "Redefine 'user'."
   ]
  },
  {
   "cell_type": "code",
   "execution_count": 31,
   "metadata": {
    "ExecuteTime": {
     "end_time": "2020-07-05T13:10:32.208152Z",
     "start_time": "2020-07-05T13:10:32.182331Z"
    }
   },
   "outputs": [],
   "source": [
    "for d in drugs:\n",
    "    df[d + '_user'] = [int(u in (3,4,5,6)) for u in df[d]]"
   ]
  },
  {
   "cell_type": "code",
   "execution_count": 32,
   "metadata": {
    "ExecuteTime": {
     "end_time": "2020-07-05T13:10:34.366410Z",
     "start_time": "2020-07-05T13:10:32.520612Z"
    }
   },
   "outputs": [],
   "source": [
    "diff_subs = [0] * len(drugs)\n",
    "for _, row in df.iterrows():\n",
    "    row['number_of_substances'] = sum([row[d] for d in drug_user])\n",
    "    diff_subs[row['number_of_substances']] += 1"
   ]
  },
  {
   "cell_type": "code",
   "execution_count": 33,
   "metadata": {
    "ExecuteTime": {
     "end_time": "2020-07-05T13:10:34.856113Z",
     "start_time": "2020-07-05T13:10:34.368982Z"
    }
   },
   "outputs": [
    {
     "data": {
      "image/png": "[encoded data removed]",
      "text/plain": [
       "<Figure size 800x550 with 1 Axes>"
      ]
     },
     "metadata": {},
     "output_type": "display_data"
    }
   ],
   "source": [
    "pd.DataFrame(enumerate(diff_subs, 0))[1].plot(kind = 'bar')\n",
    "plt.xlabel('Used Substances')\n",
    "plt.ylabel('Users')\n",
    "plt.title('How many different Substances where used in the last year?')\n",
    "plt.style.use('seaborn')\n",
    "plt.savefig('graphs/substances_per_user.png', bbox_inches = 'tight')"
   ]
  },
  {
   "cell_type": "markdown",
   "metadata": {},
   "source": [
    "## Other analysis"
   ]
  },
  {
   "cell_type": "markdown",
   "metadata": {},
   "source": [
    "Gender"
   ]
  },
  {
   "cell_type": "code",
   "execution_count": 34,
   "metadata": {
    "ExecuteTime": {
     "end_time": "2020-07-05T13:10:34.863754Z",
     "start_time": "2020-07-05T13:10:34.858399Z"
    }
   },
   "outputs": [
    {
     "data": {
      "text/plain": [
       "Male      940\n",
       "Female    937\n",
       "Name: gender, dtype: int64"
      ]
     },
     "execution_count": 34,
     "metadata": {},
     "output_type": "execute_result"
    }
   ],
   "source": [
    "df.gender.value_counts()"
   ]
  },
  {
   "cell_type": "code",
   "execution_count": 35,
   "metadata": {
    "ExecuteTime": {
     "end_time": "2020-07-05T13:10:35.461746Z",
     "start_time": "2020-07-05T13:10:35.455413Z"
    }
   },
   "outputs": [],
   "source": [
    "degrees = dict(df.education.value_counts())\n",
    "degrees_labels = {'Some college or university, no certificate or degree': 'Some university',\n",
    " 'university_degree': 'University',\n",
    " 'masters_degree': 'Masters',\n",
    " 'professional_certificate/ diploma': 'Professional',\n",
    " 'left_school': 'Left School < 17y',\n",
    " 'left_school_at_18 years': 'Left School at 18y',\n",
    " 'doctorate_degree': 'Doctorate',\n",
    " 'left_school_at_17_years': 'Left school at 17y'}"
   ]
  },
  {
   "cell_type": "code",
   "execution_count": 36,
   "metadata": {
    "ExecuteTime": {
     "end_time": "2020-07-05T13:10:35.913894Z",
     "start_time": "2020-07-05T13:10:35.908871Z"
    }
   },
   "outputs": [
    {
     "data": {
      "text/plain": [
       "{'Left School < 17y': 126,\n",
       " 'Left school at 17y': 29,\n",
       " 'Left School at 18y': 99,\n",
       " 'Some university': 503,\n",
       " 'Professional': 270,\n",
       " 'University': 478,\n",
       " 'Masters': 283,\n",
       " 'Doctorate': 89}"
      ]
     },
     "execution_count": 36,
     "metadata": {},
     "output_type": "execute_result"
    }
   ],
   "source": [
    "sorted_degree = {}\n",
    "for i in [4, 7, 5, 0, 3, 1, 2, 6]:\n",
    "    sorted_degree[degrees_labels[list(degrees.keys())[i]]] = list(degrees.values())[i]\n",
    "sorted_degree"
   ]
  },
  {
   "cell_type": "code",
   "execution_count": 37,
   "metadata": {
    "ExecuteTime": {
     "end_time": "2020-07-05T13:10:37.032550Z",
     "start_time": "2020-07-05T13:10:36.671678Z"
    },
    "scrolled": true
   },
   "outputs": [
    {
     "data": {
      "image/png": "[encoded data removed]",
      "text/plain": [
       "<Figure size 800x550 with 1 Axes>"
      ]
     },
     "metadata": {},
     "output_type": "display_data"
    }
   ],
   "source": [
    "dfe = pd.DataFrame(sorted_degree.values(), index = sorted_degree.keys())\n",
    "dfe.plot(kind = 'bar')\n",
    "plt.xlabel('Degree')\n",
    "plt.ylabel('Participants')\n",
    "plt.title('What kind of education do the participants have?')\n",
    "plt.style.use('seaborn')\n",
    "plt.legend().remove()\n",
    "plt.savefig('graphs/degrees.png', bbox_inches = 'tight')"
   ]
  },
  {
   "cell_type": "markdown",
   "metadata": {},
   "source": [
    "# Feature Engineering"
   ]
  },
  {
   "cell_type": "markdown",
   "metadata": {},
   "source": [
    "Dividing substances into different kind of drugs"
   ]
  },
  {
   "cell_type": "code",
   "execution_count": 38,
   "metadata": {
    "ExecuteTime": {
     "end_time": "2020-07-05T13:10:38.681905Z",
     "start_time": "2020-07-05T13:10:38.677764Z"
    }
   },
   "outputs": [],
   "source": [
    "soft_drugs = [ 'alcohol','caff','choc', 'nicotine']\n",
    "middle_drugs = [ 'amyl','cannabis', 'ecstasy', 'ketamine', 'lsd','legalh','shrooms','vsa']\n",
    "hard_drugs =  ['amphet','benzos', 'coke', 'crack', 'heroin', 'meth']"
   ]
  },
  {
   "cell_type": "code",
   "execution_count": 39,
   "metadata": {
    "ExecuteTime": {
     "end_time": "2020-07-05T13:10:38.953922Z",
     "start_time": "2020-07-05T13:10:38.949945Z"
    }
   },
   "outputs": [],
   "source": [
    "soft_drugs_bin = [ 'alcohol_user','caff_user','choc_user', 'nicotine_user']\n",
    "middle_drugs_bin = [ 'amyl_user','cannabis_user', 'ecstasy_user', 'ketamine_user', 'lsd_user','legalh_user',\n",
    "                    'shrooms_user','vsa_user']\n",
    "hard_drugs_bin =  ['amphet_user','benzos_user', 'coke_user', 'crack_user', 'heroin_user', 'meth_user']"
   ]
  },
  {
   "cell_type": "markdown",
   "metadata": {},
   "source": [
    "Generating a list for all the numerical features"
   ]
  },
  {
   "cell_type": "code",
   "execution_count": 40,
   "metadata": {
    "ExecuteTime": {
     "end_time": "2020-07-05T13:10:39.528939Z",
     "start_time": "2020-07-05T13:10:39.525108Z"
    }
   },
   "outputs": [],
   "source": [
    "num_features = list(df.columns[df.dtypes==float])"
   ]
  },
  {
   "cell_type": "markdown",
   "metadata": {},
   "source": [
    "Defining lists of categories of columns"
   ]
  },
  {
   "cell_type": "code",
   "execution_count": 41,
   "metadata": {
    "ExecuteTime": {
     "end_time": "2020-07-05T13:10:40.239129Z",
     "start_time": "2020-07-05T13:10:40.233560Z"
    }
   },
   "outputs": [],
   "source": [
    "age = ['18-24','25-34','35-44','45-54','55-64','65+']\n",
    "gender = ['Female','Male']\n",
    "education = ['left_school','left_school','left_school_at_17_years',\n",
    "             'left_school_at_18 years','Some college or university, no certificate or degree',\n",
    "           'professional_certificate/ diploma','university_degree','masters_degree','doctorate_degree']\n",
    "country = ['Australia','Canada','New Zealand','Other','Republic of Ireland','UK','USA']\n",
    "ethnicity = ['Asian','Black','Mixed-Black/Asian','Mixed-White/Asian','Mixed-White/Black','Other','White']"
   ]
  },
  {
   "cell_type": "markdown",
   "metadata": {},
   "source": [
    "Encoding ordinal features of the dataset"
   ]
  },
  {
   "cell_type": "code",
   "execution_count": 45,
   "metadata": {
    "ExecuteTime": {
     "end_time": "2020-07-05T13:12:14.734154Z",
     "start_time": "2020-07-05T13:12:14.726057Z"
    }
   },
   "outputs": [],
   "source": [
    "ordfeat = [age,education]\n",
    "ordfeat1 = ['age','education']\n",
    "for i in range(len(ordfeat)):\n",
    "    encoder = OrdinalEncoder(categories=[ordfeat[i]])\n",
    "    df[ordfeat1[i]] = encoder.fit_transform(df[ordfeat1[i]].values.reshape(-1, 1))"
   ]
  },
  {
   "cell_type": "markdown",
   "metadata": {},
   "source": [
    "Encoding categorical features of the dataset"
   ]
  },
  {
   "cell_type": "code",
   "execution_count": 46,
   "metadata": {
    "ExecuteTime": {
     "end_time": "2020-07-05T13:12:16.840581Z",
     "start_time": "2020-07-05T13:12:16.827444Z"
    }
   },
   "outputs": [],
   "source": [
    "encoder = OneHotEncoder(dtype=np.int, sparse=True)\n",
    "onehotfeat = ['gender','country','ethnicity']\n",
    "nominals = pd.DataFrame(\n",
    "    encoder.fit_transform(df[['gender', 'country','ethnicity']]).toarray(),\n",
    "    columns=['Female', 'Male','Australia', 'Canada', 'New Zealand', 'Other_country','Republic of Ireland', 'UK','USA','Asian','Black','Mixed-Black/Asian', 'Mixed-White/Asian','Mixed-White/Black','Other_eth', 'White'])"
   ]
  },
  {
   "cell_type": "markdown",
   "metadata": {},
   "source": [
    "Join the binary encoded columns with the original dataframe and get rid of overlapping data"
   ]
  },
  {
   "cell_type": "code",
   "execution_count": 47,
   "metadata": {
    "ExecuteTime": {
     "end_time": "2020-07-05T13:12:18.180871Z",
     "start_time": "2020-07-05T13:12:18.164536Z"
    }
   },
   "outputs": [
    {
     "data": {
      "text/plain": [
       "0          1\n",
       "1          2\n",
       "2          3\n",
       "3          4\n",
       "4          5\n",
       "5          6\n",
       "6          7\n",
       "7          8\n",
       "8          9\n",
       "9         10\n",
       "10        11\n",
       "11        12\n",
       "12        13\n",
       "13        14\n",
       "14        15\n",
       "15        16\n",
       "16        17\n",
       "17        18\n",
       "18        19\n",
       "19        20\n",
       "20        21\n",
       "21        22\n",
       "22        23\n",
       "23        24\n",
       "24        25\n",
       "25        26\n",
       "26        27\n",
       "27        28\n",
       "28        29\n",
       "29        30\n",
       "        ... \n",
       "1855    1859\n",
       "1856    1860\n",
       "1857    1861\n",
       "1858    1862\n",
       "1859    1863\n",
       "1860    1864\n",
       "1861    1865\n",
       "1862    1866\n",
       "1863    1867\n",
       "1864    1868\n",
       "1865    1869\n",
       "1866    1870\n",
       "1867    1871\n",
       "1868    1872\n",
       "1869    1873\n",
       "1870    1874\n",
       "1871    1875\n",
       "1872    1876\n",
       "1873    1877\n",
       "1874    1878\n",
       "1875    1879\n",
       "1876    1880\n",
       "1877    1881\n",
       "1878    1882\n",
       "1879    1883\n",
       "1880    1884\n",
       "1881    1885\n",
       "1882    1886\n",
       "1883    1887\n",
       "1884    1888\n",
       "Name: id, Length: 1877, dtype: int64"
      ]
     },
     "execution_count": 47,
     "metadata": {},
     "output_type": "execute_result"
    }
   ],
   "source": [
    "df = df.join(nominals,rsuffix='L')\n",
    "df.pop('semer')\n",
    "df.pop('gender')\n",
    "df.pop('country')\n",
    "df.pop('ethnicity')\n",
    "df.pop('semer_user')\n",
    "df.pop('id')"
   ]
  },
  {
   "cell_type": "markdown",
   "metadata": {},
   "source": [
    "Defining categorical features and set them as categorical features"
   ]
  },
  {
   "cell_type": "code",
   "execution_count": 48,
   "metadata": {
    "ExecuteTime": {
     "end_time": "2020-07-05T13:12:19.738652Z",
     "start_time": "2020-07-05T13:12:19.732537Z"
    }
   },
   "outputs": [],
   "source": [
    "categorical_features = ['age','education','alcohol','amphet', 'amyl', 'benzos', 'caff','cannabis', 'choc', 'coke', 'crack', 'ecstasy',\n",
    "                        'heroin', 'ketamine', 'legalh', 'lsd','meth','shrooms', 'nicotine', 'vsa',\n",
    "                        'alcohol_user','amphet_user','amyl_user','benzos_user','caff_user','cannabis_user',\n",
    "                        'choc_user','coke_user','crack_user','ecstasy_user','heroin_user','ketamine_user',\n",
    "                        'legalh_user','lsd_user','meth_user','shrooms_user','nicotine_user','vsa_user',\n",
    "                        'Female','Male','Australia','Canada','New Zealand','Other_country','Republic of Ireland','UK','USA','Asian',\n",
    "                        'Black','Mixed-Black/Asian','Mixed-White/Asian','Mixed-White/Black','Other_eth','White']"
   ]
  },
  {
   "cell_type": "code",
   "execution_count": 49,
   "metadata": {
    "ExecuteTime": {
     "end_time": "2020-07-05T13:12:20.391858Z",
     "start_time": "2020-07-05T13:12:20.340505Z"
    }
   },
   "outputs": [],
   "source": [
    "for i in categorical_features:\n",
    "    df[i]= df[i].astype('category')"
   ]
  },
  {
   "cell_type": "code",
   "execution_count": 50,
   "metadata": {
    "ExecuteTime": {
     "end_time": "2020-07-05T13:12:20.839125Z",
     "start_time": "2020-07-05T13:12:20.836133Z"
    }
   },
   "outputs": [],
   "source": [
    "num_features = ['nscore','escore','oscore','ascore','cscore','impulsive','ss']"
   ]
  },
  {
   "cell_type": "markdown",
   "metadata": {},
   "source": [
    "Defining binary classes of substances"
   ]
  },
  {
   "cell_type": "code",
   "execution_count": 51,
   "metadata": {
    "ExecuteTime": {
     "end_time": "2020-07-05T13:12:21.968287Z",
     "start_time": "2020-07-05T13:12:21.964436Z"
    }
   },
   "outputs": [],
   "source": [
    "drug_users = ['alcohol_user','amphet_user', 'amyl_user', 'benzos_user', 'caff_user', 'cannabis_user',\n",
    "       'choc_user', 'coke_user', 'crack_user', 'ecstasy_user', 'heroin_user',\n",
    "       'ketamine_user', 'legalh_user', 'lsd_user', 'meth_user', 'shrooms_user',\n",
    "       'nicotine_user', 'vsa_user']"
   ]
  },
  {
   "cell_type": "code",
   "execution_count": 52,
   "metadata": {
    "ExecuteTime": {
     "end_time": "2020-07-05T13:12:22.448813Z",
     "start_time": "2020-07-05T13:12:22.439159Z"
    }
   },
   "outputs": [],
   "source": [
    "drug_users_list = {}\n",
    "for i in drug_users:\n",
    "    druggs = sum(df[i])\n",
    "    drug_users_list.update({str(i):druggs})"
   ]
  },
  {
   "cell_type": "markdown",
   "metadata": {},
   "source": [
    "Definging imbalanced columns in order to find best suiting models for these columns"
   ]
  },
  {
   "cell_type": "code",
   "execution_count": 53,
   "metadata": {
    "ExecuteTime": {
     "end_time": "2020-07-05T13:12:23.328097Z",
     "start_time": "2020-07-05T13:12:23.324386Z"
    }
   },
   "outputs": [],
   "source": [
    "imbalanced_sets_minor =['amyl_user', 'crack_user', 'heroin_user', 'ketamine_user',\n",
    "                        'meth_user', 'vsa_user']\n",
    "imbalanced_sets_major =['alcohol','caff_user', 'choc_user']"
   ]
  },
  {
   "cell_type": "markdown",
   "metadata": {},
   "source": [
    "# Predictive modeling"
   ]
  },
  {
   "cell_type": "markdown",
   "metadata": {},
   "source": [
    "## Train-test-split for every column"
   ]
  },
  {
   "cell_type": "markdown",
   "metadata": {},
   "source": [
    "Before splitting the dataset we'll get rid of NaN values"
   ]
  },
  {
   "cell_type": "code",
   "execution_count": 54,
   "metadata": {
    "ExecuteTime": {
     "end_time": "2020-07-05T13:12:25.055260Z",
     "start_time": "2020-07-05T13:12:25.032562Z"
    }
   },
   "outputs": [],
   "source": [
    "df = df.dropna(axis=0, how='any')"
   ]
  },
  {
   "cell_type": "markdown",
   "metadata": {},
   "source": [
    "### Train-test-split binary"
   ]
  },
  {
   "cell_type": "markdown",
   "metadata": {},
   "source": [
    "Splitting the dataset into training sets. Split for each column to test binary drug usage."
   ]
  },
  {
   "cell_type": "code",
   "execution_count": 55,
   "metadata": {
    "ExecuteTime": {
     "end_time": "2020-07-05T13:12:26.261768Z",
     "start_time": "2020-07-05T13:12:26.252064Z"
    }
   },
   "outputs": [],
   "source": [
    "dfbin = pd.DataFrame(df, columns=['age', 'education', 'nscore', 'escore', 'oscore', 'ascore', 'cscore',\n",
    "       'impulsive', 'ss','alcohol_user',\n",
    "       'amphet_user', 'amyl_user', 'benzos_user', 'caff_user', 'cannabis_user',\n",
    "       'choc_user', 'coke_user', 'crack_user', 'ecstasy_user', 'heroin_user',\n",
    "       'ketamine_user', 'legalh_user', 'lsd_user', 'meth_user', 'shrooms_user',\n",
    "       'nicotine_user', 'vsa_user', 'Female', 'Male', 'Australia', 'Canada',\n",
    "       'New Zealand', 'Other_country', 'Republic of Ireland', 'UK', 'USA',\n",
    "       'Asian', 'Black', 'Mixed-Black/Asian', 'Mixed-White/Asian',\n",
    "       'Mixed-White/Black', 'Other_eth', 'White'])"
   ]
  },
  {
   "cell_type": "code",
   "execution_count": 56,
   "metadata": {
    "ExecuteTime": {
     "end_time": "2020-07-05T13:12:27.169607Z",
     "start_time": "2020-07-05T13:12:26.656358Z"
    }
   },
   "outputs": [],
   "source": [
    "for d in dfbin.columns:\n",
    "    X = dfbin.drop(d,axis=1)\n",
    "    y = dfbin[d]\n",
    "    globals()[\"X_train_bin_\" + str(d)], globals()[\"X_test_bin_\" + str(d)], globals()[\"y_train_bin_\" + str(d)], globals()[\"y_test_bin_\" + str(d)] = train_test_split(X, y, test_size=0.25, random_state=2)"
   ]
  },
  {
   "cell_type": "markdown",
   "metadata": {},
   "source": [
    "### Train-test-split multiclass"
   ]
  },
  {
   "cell_type": "markdown",
   "metadata": {},
   "source": [
    "Splitting the dataset into training sets. Split for each column to test multiclass drug usage."
   ]
  },
  {
   "cell_type": "code",
   "execution_count": 57,
   "metadata": {
    "ExecuteTime": {
     "end_time": "2020-07-05T13:12:28.032498Z",
     "start_time": "2020-07-05T13:12:28.023622Z"
    }
   },
   "outputs": [],
   "source": [
    "dfmult = pd.DataFrame(df, columns=['age', 'education', 'nscore', 'escore', 'oscore', 'ascore', 'cscore',\n",
    "       'impulsive', 'ss', 'alcohol', 'amphet', 'amyl', 'benzos', 'caff',\n",
    "       'cannabis', 'choc', 'coke', 'crack', 'ecstasy', 'heroin', 'ketamine',\n",
    "       'legalh', 'lsd', 'meth', 'shrooms', 'nicotine', 'vsa', 'Female', 'Male', 'Australia', 'Canada',\n",
    "       'New Zealand', 'Other_country', 'Republic of Ireland', 'UK', 'USA',\n",
    "       'Asian', 'Black', 'Mixed-Black/Asian', 'Mixed-White/Asian',\n",
    "       'Mixed-White/Black', 'Other_eth', 'White'])"
   ]
  },
  {
   "cell_type": "code",
   "execution_count": 58,
   "metadata": {
    "ExecuteTime": {
     "end_time": "2020-07-05T13:12:29.001304Z",
     "start_time": "2020-07-05T13:12:28.491069Z"
    }
   },
   "outputs": [],
   "source": [
    "for d in dfmult.columns:\n",
    "    X = dfmult.drop(d,axis=1)\n",
    "    y = dfmult[d]\n",
    "    globals()[\"X_train_mult_\" + str(d)], globals()[\"X_test_mult_\" + str(d)], globals()[\"y_train_mult_\" + str(d)], globals()[\"y_test_mult_\" + str(d)] = train_test_split(X, y, test_size=0.25, random_state=2)"
   ]
  },
  {
   "cell_type": "markdown",
   "metadata": {},
   "source": [
    "## Function for binary classification"
   ]
  },
  {
   "cell_type": "markdown",
   "metadata": {},
   "source": [
    "Setting up the binary class function"
   ]
  },
  {
   "cell_type": "code",
   "execution_count": 59,
   "metadata": {
    "ExecuteTime": {
     "end_time": "2020-07-05T13:12:30.535776Z",
     "start_time": "2020-07-05T13:12:30.532418Z"
    }
   },
   "outputs": [],
   "source": [
    "mean_acc_bin = []"
   ]
  },
  {
   "cell_type": "code",
   "execution_count": 62,
   "metadata": {
    "ExecuteTime": {
     "end_time": "2020-07-05T13:12:38.912157Z",
     "start_time": "2020-07-05T13:12:38.888920Z"
    }
   },
   "outputs": [],
   "source": [
    "df = df.dropna(axis=0, how='any')"
   ]
  },
  {
   "cell_type": "code",
   "execution_count": 63,
   "metadata": {
    "ExecuteTime": {
     "end_time": "2020-07-05T13:12:40.056233Z",
     "start_time": "2020-07-05T13:12:40.051345Z"
    }
   },
   "outputs": [],
   "source": [
    "cat_features_bin = ['age','education','alcohol_user','amphet_user','amyl_user','benzos_user','caff_user','cannabis_user',\n",
    "                        'choc_user','coke_user','crack_user','ecstasy_user','heroin_user','ketamine_user',\n",
    "                        'legalh_user','lsd_user','meth_user','shrooms_user','nicotine_user','vsa_user',\n",
    "                        'Female','Male','Australia','Canada','New Zealand','Other_country','Republic of Ireland','UK','USA','Asian',\n",
    "                        'Black','Mixed-Black/Asian','Mixed-White/Asian','Mixed-White/Black','Other_eth','White']"
   ]
  },
  {
   "cell_type": "code",
   "execution_count": 82,
   "metadata": {
    "ExecuteTime": {
     "end_time": "2020-07-05T13:22:11.243443Z",
     "start_time": "2020-07-05T13:22:11.231295Z"
    }
   },
   "outputs": [],
   "source": [
    "def catclassifier(goal,classifier):\n",
    "    X_train, X_test, y_train, y_test = globals()[\"X_train_bin_\" + str(goal)],globals()[\"X_test_bin_\" + str(goal)],globals()[\"y_train_bin_\" + str(goal)],globals()[\"y_test_bin_\" + str(goal)]\n",
    "    if cat_features_bin.count(goal) !=0:\n",
    "        cat_features_bin.remove(goal)\n",
    "    model_name = classifier.__class__.__name__\n",
    "    num_pipeline = Pipeline([('std_scaler', StandardScaler())])\n",
    "    cat_pipeline = Pipeline([('imputer_cat', SimpleImputer(strategy='constant', fill_value='missing'))\n",
    "                             ,('1hot', OneHotEncoder(handle_unknown='ignore'))])\n",
    "    preprocessor = ColumnTransformer([('num', num_pipeline, num_features),('cat', cat_pipeline, cat_features_bin)])\n",
    "    pipe = Pipeline([('preprocessor', preprocessor),('params', classifier)])\n",
    "    y_train_predicted = cross_val_predict(pipe, X_train, y_train, cv=5)\n",
    "    model = pipe.fit(X_train, y_train)\n",
    "    y_test_predicted = model.predict(X_test)\n",
    "    print(model_name, goal)\n",
    "    print(\"Accuracy: {:.2f}\".format(accuracy_score(y_train, y_train_predicted)))\n",
    "    print(\"Recall: {:.2f}\".format(recall_score(y_train, y_train_predicted,average='micro',zero_division=1)))\n",
    "    print(\"Precision: {:.2f}\".format(precision_score(y_train, y_train_predicted,average='micro',zero_division=1)))\n",
    "    print(\"Accuracy Model: {:.2f}\".format(accuracy_score(y_test, y_test_predicted)))\n",
    "    print(\"Recall Model: {:.2f}\".format(recall_score(y_test, y_test_predicted,average='micro',zero_division=1)))\n",
    "    print(\"Precision Model: {:.2f}\".format(precision_score(y_test, y_test_predicted,average='micro',zero_division=1)))\n",
    "    print(confusion_matrix(y_test, y_test_predicted))\n",
    "    print(classification_report(y_test, y_test_predicted,zero_division=1))\n",
    "    mean_acc_bin.append([str(model_name),str(goal),accuracy_score(y_test, y_test_predicted).round(3)])\n",
    "    cat_features_bin.append(goal)\n",
    "    return confusion_matrix(y_test, y_test_predicted)"
   ]
  },
  {
   "cell_type": "markdown",
   "metadata": {},
   "source": [
    "Creating a setup for classification methods and features to be searched"
   ]
  },
  {
   "cell_type": "code",
   "execution_count": 75,
   "metadata": {
    "ExecuteTime": {
     "end_time": "2020-07-05T13:18:33.374666Z",
     "start_time": "2020-07-05T13:18:33.369745Z"
    }
   },
   "outputs": [],
   "source": [
    "list_classifier = [RandomForestClassifier(max_depth=3, min_samples_leaf=2, n_estimators=20,random_state=42,max_features=4),\n",
    "                   GradientBoostingClassifier(learning_rate=0.01,max_depth=6,max_features=8,min_samples_leaf= 2,n_estimators= 500),\n",
    "                   KNeighborsClassifier(leaf_size= 1,n_neighbors= 26),\n",
    "                   DecisionTreeClassifier(max_depth=7,max_features=8,min_samples_leaf=0.1,min_samples_split=0.1),\n",
    "                   SVC(kernel=\"rbf\", C=1),\n",
    "                   AdaBoostClassifier(learning_rate=0.5,n_estimators=100)\n",
    "]\n",
    "list_features = ['cannabis_user','nicotine_user','meth_user']"
   ]
  },
  {
   "cell_type": "markdown",
   "metadata": {},
   "source": [
    "## Using the catclassifier function for plotting a confusion matrix"
   ]
  },
  {
   "cell_type": "code",
   "execution_count": 76,
   "metadata": {
    "ExecuteTime": {
     "end_time": "2020-07-05T13:18:46.113497Z",
     "start_time": "2020-07-05T13:18:40.785399Z"
    }
   },
   "outputs": [
    {
     "name": "stdout",
     "output_type": "stream",
     "text": [
      "GradientBoostingClassifier cannabis_user\n",
      "Accuracy: 0.86\n",
      "Recall: 0.86\n",
      "Precision: 0.86\n",
      "Accuracy Model: 0.86\n",
      "Recall Model: 0.86\n",
      "Precision Model: 0.86\n",
      "[[201  32]\n",
      " [ 32 203]]\n",
      "              precision    recall  f1-score   support\n",
      "\n",
      "           0       0.86      0.86      0.86       233\n",
      "           1       0.86      0.86      0.86       235\n",
      "\n",
      "    accuracy                           0.86       468\n",
      "   macro avg       0.86      0.86      0.86       468\n",
      "weighted avg       0.86      0.86      0.86       468\n",
      "\n"
     ]
    }
   ],
   "source": [
    "cm = catclassifier('cannabis_user',GradientBoostingClassifier(learning_rate=0.01,max_depth=6,max_features=8,min_samples_leaf= 2,n_estimators= 500))"
   ]
  },
  {
   "cell_type": "code",
   "execution_count": 67,
   "metadata": {
    "ExecuteTime": {
     "end_time": "2020-07-05T13:12:48.786249Z",
     "start_time": "2020-07-05T13:12:48.783899Z"
    }
   },
   "outputs": [],
   "source": [
    "cm=[[198,35],[32,203]]"
   ]
  },
  {
   "cell_type": "markdown",
   "metadata": {},
   "source": [
    "Plotting the results"
   ]
  },
  {
   "cell_type": "code",
   "execution_count": 70,
   "metadata": {
    "ExecuteTime": {
     "end_time": "2020-07-05T13:13:44.187421Z",
     "start_time": "2020-07-05T13:13:44.001308Z"
    }
   },
   "outputs": [
    {
     "data": {
      "text/plain": [
       "[]"
      ]
     },
     "execution_count": 70,
     "metadata": {},
     "output_type": "execute_result"
    },
    {
     "data": {
      "image/png": "[encoded data removed]",
      "text/plain": [
       "<Figure size 432x288 with 2 Axes>"
      ]
     },
     "metadata": {
      "needs_background": "light"
     },
     "output_type": "display_data"
    }
   ],
   "source": [
    "title = 'Cannabis user confusion matrix: Gradient Boosting Classifier'\n",
    "cm = np.array([[198,35],[32,203]])\n",
    "classes = ['Non-User', 'User']\n",
    "cmap = plt.cm.Blues\n",
    "\n",
    "fig, ax = plt.subplots()\n",
    "im = ax.imshow(cm, interpolation='nearest', cmap=cmap)\n",
    "ax.figure.colorbar(im, ax=ax)\n",
    "ax.set(xticks=np.arange(cm.shape[1]),\n",
    "      yticks=np.arange(cm.shape[0]),\n",
    "      xticklabels=classes,\n",
    "      yticklabels=classes,\n",
    "      title=title,\n",
    "      ylabel='True label',\n",
    "      xlabel='Predicted label')\n",
    "for i in range(cm.shape[0]):\n",
    "    for j in range(cm.shape[1]):\n",
    "        ax.text(j, i, format(cm[i, j]),\n",
    "               ha=\"center\", va='center')\n",
    "plt.plot()"
   ]
  },
  {
   "cell_type": "markdown",
   "metadata": {},
   "source": [
    "### Predicting binary classification (soft drugs, middle drugs, hard drugs)\n",
    "\n",
    "\n",
    "Searching for optimal classifier by going through every drug. One loop for each class of drugs."
   ]
  },
  {
   "cell_type": "markdown",
   "metadata": {
    "ExecuteTime": {
     "end_time": "2020-07-05T11:49:12.384924Z",
     "start_time": "2020-07-05T11:49:12.381436Z"
    }
   },
   "source": [
    "Predicting for soft drugs (alcohol, caffeine, choc, nicotine)"
   ]
  },
  {
   "cell_type": "code",
   "execution_count": 83,
   "metadata": {
    "ExecuteTime": {
     "end_time": "2020-07-05T13:22:59.228624Z",
     "start_time": "2020-07-05T13:22:16.151463Z"
    }
   },
   "outputs": [
    {
     "name": "stdout",
     "output_type": "stream",
     "text": [
      "RandomForestClassifier alcohol_user\n",
      "Accuracy: 0.93\n",
      "Recall: 0.93\n",
      "Precision: 0.93\n",
      "Accuracy Model: 0.93\n",
      "Recall Model: 0.93\n",
      "Precision Model: 0.93\n",
      "[[  0  33]\n",
      " [  0 435]]\n",
      "              precision    recall  f1-score   support\n",
      "\n",
      "           0       1.00      0.00      0.00        33\n",
      "           1       0.93      1.00      0.96       435\n",
      "\n",
      "    accuracy                           0.93       468\n",
      "   macro avg       0.96      0.50      0.48       468\n",
      "weighted avg       0.93      0.93      0.90       468\n",
      "\n",
      "GradientBoostingClassifier alcohol_user\n",
      "Accuracy: 0.93\n",
      "Recall: 0.93\n",
      "Precision: 0.93\n",
      "Accuracy Model: 0.93\n",
      "Recall Model: 0.93\n",
      "Precision Model: 0.93\n",
      "[[  1  32]\n",
      " [  0 435]]\n",
      "              precision    recall  f1-score   support\n",
      "\n",
      "           0       1.00      0.03      0.06        33\n",
      "           1       0.93      1.00      0.96       435\n",
      "\n",
      "    accuracy                           0.93       468\n",
      "   macro avg       0.97      0.52      0.51       468\n",
      "weighted avg       0.94      0.93      0.90       468\n",
      "\n",
      "KNeighborsClassifier alcohol_user\n",
      "Accuracy: 0.93\n",
      "Recall: 0.93\n",
      "Precision: 0.93\n",
      "Accuracy Model: 0.93\n",
      "Recall Model: 0.93\n",
      "Precision Model: 0.93\n",
      "[[  0  33]\n",
      " [  0 435]]\n",
      "              precision    recall  f1-score   support\n",
      "\n",
      "           0       1.00      0.00      0.00        33\n",
      "           1       0.93      1.00      0.96       435\n",
      "\n",
      "    accuracy                           0.93       468\n",
      "   macro avg       0.96      0.50      0.48       468\n",
      "weighted avg       0.93      0.93      0.90       468\n",
      "\n",
      "DecisionTreeClassifier alcohol_user\n",
      "Accuracy: 0.93\n",
      "Recall: 0.93\n",
      "Precision: 0.93\n",
      "Accuracy Model: 0.93\n",
      "Recall Model: 0.93\n",
      "Precision Model: 0.93\n",
      "[[  0  33]\n",
      " [  0 435]]\n",
      "              precision    recall  f1-score   support\n",
      "\n",
      "           0       1.00      0.00      0.00        33\n",
      "           1       0.93      1.00      0.96       435\n",
      "\n",
      "    accuracy                           0.93       468\n",
      "   macro avg       0.96      0.50      0.48       468\n",
      "weighted avg       0.93      0.93      0.90       468\n",
      "\n",
      "SVC alcohol_user\n",
      "Accuracy: 0.93\n",
      "Recall: 0.93\n",
      "Precision: 0.93\n",
      "Accuracy Model: 0.93\n",
      "Recall Model: 0.93\n",
      "Precision Model: 0.93\n",
      "[[  0  33]\n",
      " [  0 435]]\n",
      "              precision    recall  f1-score   support\n",
      "\n",
      "           0       1.00      0.00      0.00        33\n",
      "           1       0.93      1.00      0.96       435\n",
      "\n",
      "    accuracy                           0.93       468\n",
      "   macro avg       0.96      0.50      0.48       468\n",
      "weighted avg       0.93      0.93      0.90       468\n",
      "\n",
      "AdaBoostClassifier alcohol_user\n",
      "Accuracy: 0.92\n",
      "Recall: 0.92\n",
      "Precision: 0.92\n",
      "Accuracy Model: 0.93\n",
      "Recall Model: 0.93\n",
      "Precision Model: 0.93\n",
      "[[  0  33]\n",
      " [  1 434]]\n",
      "              precision    recall  f1-score   support\n",
      "\n",
      "           0       0.00      0.00      0.00        33\n",
      "           1       0.93      1.00      0.96       435\n",
      "\n",
      "    accuracy                           0.93       468\n",
      "   macro avg       0.46      0.50      0.48       468\n",
      "weighted avg       0.86      0.93      0.89       468\n",
      "\n",
      "RandomForestClassifier caff_user\n",
      "Accuracy: 0.97\n",
      "Recall: 0.97\n",
      "Precision: 0.97\n",
      "Accuracy Model: 0.96\n",
      "Recall Model: 0.96\n",
      "Precision Model: 0.96\n",
      "[[  0  21]\n",
      " [  0 447]]\n",
      "              precision    recall  f1-score   support\n",
      "\n",
      "           0       1.00      0.00      0.00        21\n",
      "           1       0.96      1.00      0.98       447\n",
      "\n",
      "    accuracy                           0.96       468\n",
      "   macro avg       0.98      0.50      0.49       468\n",
      "weighted avg       0.96      0.96      0.93       468\n",
      "\n",
      "GradientBoostingClassifier caff_user\n",
      "Accuracy: 0.97\n",
      "Recall: 0.97\n",
      "Precision: 0.97\n",
      "Accuracy Model: 0.96\n",
      "Recall Model: 0.96\n",
      "Precision Model: 0.96\n",
      "[[  0  21]\n",
      " [  0 447]]\n",
      "              precision    recall  f1-score   support\n",
      "\n",
      "           0       1.00      0.00      0.00        21\n",
      "           1       0.96      1.00      0.98       447\n",
      "\n",
      "    accuracy                           0.96       468\n",
      "   macro avg       0.98      0.50      0.49       468\n",
      "weighted avg       0.96      0.96      0.93       468\n",
      "\n",
      "KNeighborsClassifier caff_user\n",
      "Accuracy: 0.97\n",
      "Recall: 0.97\n",
      "Precision: 0.97\n",
      "Accuracy Model: 0.96\n",
      "Recall Model: 0.96\n",
      "Precision Model: 0.96\n",
      "[[  0  21]\n",
      " [  0 447]]\n",
      "              precision    recall  f1-score   support\n",
      "\n",
      "           0       1.00      0.00      0.00        21\n",
      "           1       0.96      1.00      0.98       447\n",
      "\n",
      "    accuracy                           0.96       468\n",
      "   macro avg       0.98      0.50      0.49       468\n",
      "weighted avg       0.96      0.96      0.93       468\n",
      "\n",
      "DecisionTreeClassifier caff_user\n",
      "Accuracy: 0.97\n",
      "Recall: 0.97\n",
      "Precision: 0.97\n",
      "Accuracy Model: 0.96\n",
      "Recall Model: 0.96\n",
      "Precision Model: 0.96\n",
      "[[  0  21]\n",
      " [  0 447]]\n",
      "              precision    recall  f1-score   support\n",
      "\n",
      "           0       1.00      0.00      0.00        21\n",
      "           1       0.96      1.00      0.98       447\n",
      "\n",
      "    accuracy                           0.96       468\n",
      "   macro avg       0.98      0.50      0.49       468\n",
      "weighted avg       0.96      0.96      0.93       468\n",
      "\n",
      "SVC caff_user\n",
      "Accuracy: 0.97\n",
      "Recall: 0.97\n",
      "Precision: 0.97\n",
      "Accuracy Model: 0.96\n",
      "Recall Model: 0.96\n",
      "Precision Model: 0.96\n",
      "[[  0  21]\n",
      " [  0 447]]\n",
      "              precision    recall  f1-score   support\n",
      "\n",
      "           0       1.00      0.00      0.00        21\n",
      "           1       0.96      1.00      0.98       447\n",
      "\n",
      "    accuracy                           0.96       468\n",
      "   macro avg       0.98      0.50      0.49       468\n",
      "weighted avg       0.96      0.96      0.93       468\n",
      "\n",
      "AdaBoostClassifier caff_user\n",
      "Accuracy: 0.97\n",
      "Recall: 0.97\n",
      "Precision: 0.97\n",
      "Accuracy Model: 0.95\n",
      "Recall Model: 0.95\n",
      "Precision Model: 0.95\n",
      "[[  0  21]\n",
      " [  1 446]]\n",
      "              precision    recall  f1-score   support\n",
      "\n",
      "           0       0.00      0.00      0.00        21\n",
      "           1       0.96      1.00      0.98       447\n",
      "\n",
      "    accuracy                           0.95       468\n",
      "   macro avg       0.48      0.50      0.49       468\n",
      "weighted avg       0.91      0.95      0.93       468\n",
      "\n",
      "RandomForestClassifier choc_user\n",
      "Accuracy: 0.98\n",
      "Recall: 0.98\n",
      "Precision: 0.98\n",
      "Accuracy Model: 0.97\n",
      "Recall Model: 0.97\n",
      "Precision Model: 0.97\n",
      "[[  0  13]\n",
      " [  0 455]]\n",
      "              precision    recall  f1-score   support\n",
      "\n",
      "           0       1.00      0.00      0.00        13\n",
      "           1       0.97      1.00      0.99       455\n",
      "\n",
      "    accuracy                           0.97       468\n",
      "   macro avg       0.99      0.50      0.49       468\n",
      "weighted avg       0.97      0.97      0.96       468\n",
      "\n",
      "GradientBoostingClassifier choc_user\n",
      "Accuracy: 0.98\n",
      "Recall: 0.98\n",
      "Precision: 0.98\n",
      "Accuracy Model: 0.97\n",
      "Recall Model: 0.97\n",
      "Precision Model: 0.97\n",
      "[[  0  13]\n",
      " [  0 455]]\n",
      "              precision    recall  f1-score   support\n",
      "\n",
      "           0       1.00      0.00      0.00        13\n",
      "           1       0.97      1.00      0.99       455\n",
      "\n",
      "    accuracy                           0.97       468\n",
      "   macro avg       0.99      0.50      0.49       468\n",
      "weighted avg       0.97      0.97      0.96       468\n",
      "\n",
      "KNeighborsClassifier choc_user\n",
      "Accuracy: 0.98\n",
      "Recall: 0.98\n",
      "Precision: 0.98\n",
      "Accuracy Model: 0.97\n",
      "Recall Model: 0.97\n",
      "Precision Model: 0.97\n",
      "[[  0  13]\n",
      " [  0 455]]\n",
      "              precision    recall  f1-score   support\n",
      "\n",
      "           0       1.00      0.00      0.00        13\n",
      "           1       0.97      1.00      0.99       455\n",
      "\n",
      "    accuracy                           0.97       468\n",
      "   macro avg       0.99      0.50      0.49       468\n",
      "weighted avg       0.97      0.97      0.96       468\n",
      "\n",
      "DecisionTreeClassifier choc_user\n",
      "Accuracy: 0.98\n",
      "Recall: 0.98\n",
      "Precision: 0.98\n",
      "Accuracy Model: 0.97\n",
      "Recall Model: 0.97\n",
      "Precision Model: 0.97\n",
      "[[  0  13]\n",
      " [  0 455]]\n",
      "              precision    recall  f1-score   support\n",
      "\n",
      "           0       1.00      0.00      0.00        13\n",
      "           1       0.97      1.00      0.99       455\n",
      "\n",
      "    accuracy                           0.97       468\n",
      "   macro avg       0.99      0.50      0.49       468\n",
      "weighted avg       0.97      0.97      0.96       468\n",
      "\n",
      "SVC choc_user\n",
      "Accuracy: 0.98\n",
      "Recall: 0.98\n",
      "Precision: 0.98\n",
      "Accuracy Model: 0.97\n",
      "Recall Model: 0.97\n",
      "Precision Model: 0.97\n",
      "[[  0  13]\n",
      " [  0 455]]\n",
      "              precision    recall  f1-score   support\n",
      "\n",
      "           0       1.00      0.00      0.00        13\n",
      "           1       0.97      1.00      0.99       455\n",
      "\n",
      "    accuracy                           0.97       468\n",
      "   macro avg       0.99      0.50      0.49       468\n",
      "weighted avg       0.97      0.97      0.96       468\n",
      "\n"
     ]
    },
    {
     "name": "stdout",
     "output_type": "stream",
     "text": [
      "AdaBoostClassifier choc_user\n",
      "Accuracy: 0.98\n",
      "Recall: 0.98\n",
      "Precision: 0.98\n",
      "Accuracy Model: 0.97\n",
      "Recall Model: 0.97\n",
      "Precision Model: 0.97\n",
      "[[  0  13]\n",
      " [  1 454]]\n",
      "              precision    recall  f1-score   support\n",
      "\n",
      "           0       0.00      0.00      0.00        13\n",
      "           1       0.97      1.00      0.98       455\n",
      "\n",
      "    accuracy                           0.97       468\n",
      "   macro avg       0.49      0.50      0.49       468\n",
      "weighted avg       0.95      0.97      0.96       468\n",
      "\n",
      "RandomForestClassifier nicotine_user\n",
      "Accuracy: 0.74\n",
      "Recall: 0.74\n",
      "Precision: 0.74\n",
      "Accuracy Model: 0.76\n",
      "Recall Model: 0.76\n",
      "Precision Model: 0.76\n",
      "[[162  54]\n",
      " [ 60 192]]\n",
      "              precision    recall  f1-score   support\n",
      "\n",
      "           0       0.73      0.75      0.74       216\n",
      "           1       0.78      0.76      0.77       252\n",
      "\n",
      "    accuracy                           0.76       468\n",
      "   macro avg       0.76      0.76      0.76       468\n",
      "weighted avg       0.76      0.76      0.76       468\n",
      "\n",
      "GradientBoostingClassifier nicotine_user\n",
      "Accuracy: 0.75\n",
      "Recall: 0.75\n",
      "Precision: 0.75\n",
      "Accuracy Model: 0.77\n",
      "Recall Model: 0.77\n",
      "Precision Model: 0.77\n",
      "[[159  57]\n",
      " [ 51 201]]\n",
      "              precision    recall  f1-score   support\n",
      "\n",
      "           0       0.76      0.74      0.75       216\n",
      "           1       0.78      0.80      0.79       252\n",
      "\n",
      "    accuracy                           0.77       468\n",
      "   macro avg       0.77      0.77      0.77       468\n",
      "weighted avg       0.77      0.77      0.77       468\n",
      "\n",
      "KNeighborsClassifier nicotine_user\n",
      "Accuracy: 0.71\n",
      "Recall: 0.71\n",
      "Precision: 0.71\n",
      "Accuracy Model: 0.73\n",
      "Recall Model: 0.73\n",
      "Precision Model: 0.73\n",
      "[[177  39]\n",
      " [ 87 165]]\n",
      "              precision    recall  f1-score   support\n",
      "\n",
      "           0       0.67      0.82      0.74       216\n",
      "           1       0.81      0.65      0.72       252\n",
      "\n",
      "    accuracy                           0.73       468\n",
      "   macro avg       0.74      0.74      0.73       468\n",
      "weighted avg       0.74      0.73      0.73       468\n",
      "\n",
      "DecisionTreeClassifier nicotine_user\n",
      "Accuracy: 0.72\n",
      "Recall: 0.72\n",
      "Precision: 0.72\n",
      "Accuracy Model: 0.66\n",
      "Recall Model: 0.66\n",
      "Precision Model: 0.66\n",
      "[[152  64]\n",
      " [ 97 155]]\n",
      "              precision    recall  f1-score   support\n",
      "\n",
      "           0       0.61      0.70      0.65       216\n",
      "           1       0.71      0.62      0.66       252\n",
      "\n",
      "    accuracy                           0.66       468\n",
      "   macro avg       0.66      0.66      0.66       468\n",
      "weighted avg       0.66      0.66      0.66       468\n",
      "\n",
      "SVC nicotine_user\n",
      "Accuracy: 0.76\n",
      "Recall: 0.76\n",
      "Precision: 0.76\n",
      "Accuracy Model: 0.79\n",
      "Recall Model: 0.79\n",
      "Precision Model: 0.79\n",
      "[[168  48]\n",
      " [ 52 200]]\n",
      "              precision    recall  f1-score   support\n",
      "\n",
      "           0       0.76      0.78      0.77       216\n",
      "           1       0.81      0.79      0.80       252\n",
      "\n",
      "    accuracy                           0.79       468\n",
      "   macro avg       0.79      0.79      0.79       468\n",
      "weighted avg       0.79      0.79      0.79       468\n",
      "\n",
      "AdaBoostClassifier nicotine_user\n",
      "Accuracy: 0.75\n",
      "Recall: 0.75\n",
      "Precision: 0.75\n",
      "Accuracy Model: 0.77\n",
      "Recall Model: 0.77\n",
      "Precision Model: 0.77\n",
      "[[160  56]\n",
      " [ 52 200]]\n",
      "              precision    recall  f1-score   support\n",
      "\n",
      "           0       0.75      0.74      0.75       216\n",
      "           1       0.78      0.79      0.79       252\n",
      "\n",
      "    accuracy                           0.77       468\n",
      "   macro avg       0.77      0.77      0.77       468\n",
      "weighted avg       0.77      0.77      0.77       468\n",
      "\n"
     ]
    }
   ],
   "source": [
    "for k in soft_drugs_bin:\n",
    "    for i in list_classifier:\n",
    "        catclassifier(k,i)\n",
    "mean_acc_soft_bin = mean_acc_bin\n",
    "mean_acc_bin = []"
   ]
  },
  {
   "cell_type": "markdown",
   "metadata": {},
   "source": [
    "Prediction for middle drugs (amyl nitrite, cannabis, ecstasy, ketamine, lsd, legal highs, mushrooms, vsa)"
   ]
  },
  {
   "cell_type": "code",
   "execution_count": null,
   "metadata": {},
   "outputs": [],
   "source": [
    "for k in middle_drugs_bin:\n",
    "    for i in list_classifier:\n",
    "        catclassifier(k,i)\n",
    "mean_acc_mid_bin = mean_acc_bin\n",
    "mean_acc_bin = []"
   ]
  },
  {
   "cell_type": "markdown",
   "metadata": {},
   "source": [
    "Prediction for hard drugs (amphetamines, benzodiazepine, cocaine, crack, heroin, meth)"
   ]
  },
  {
   "cell_type": "code",
   "execution_count": null,
   "metadata": {},
   "outputs": [],
   "source": [
    "for k in hard_drugs_bin:\n",
    "    for i in list_classifier:\n",
    "        catclassifier(k,i)\n",
    "mean_acc_hard_bin = mean_acc_bin\n",
    "mean_acc_bin = []"
   ]
  },
  {
   "cell_type": "markdown",
   "metadata": {},
   "source": [
    "## Function for multiclass classification"
   ]
  },
  {
   "cell_type": "markdown",
   "metadata": {},
   "source": [
    "Defining the function for multiclass classification"
   ]
  },
  {
   "cell_type": "code",
   "execution_count": null,
   "metadata": {},
   "outputs": [],
   "source": [
    "cat_features_mult =['age','education','Female','Male','Australia','Canada','New Zealand','Other_country',\n",
    "                    'Republic of Ireland','UK','USA','Asian','Black','Mixed-Black/Asian','Mixed-White/Asian',\n",
    "                    'Mixed-White/Black','Other_eth','White']\n",
    "cat_ordi_features_mult =['alcohol','amphet', 'amyl', 'benzos', 'caff','cannabis', 'choc', 'coke', 'crack', 'ecstasy',\n",
    "                        'heroin', 'ketamine', 'legalh', 'lsd','meth','shrooms', 'nicotine', 'vsa']"
   ]
  },
  {
   "cell_type": "code",
   "execution_count": null,
   "metadata": {},
   "outputs": [],
   "source": [
    "def multclass(goal,classifier):\n",
    "    X_train, X_test, y_train, y_test = globals()[\"X_train_mult_\" + str(goal)],globals()[\"X_test_mult_\" + str(goal)],globals()[\"y_train_mult_\" + str(goal)],globals()[\"y_test_mult_\" + str(goal)]\n",
    "    L=True\n",
    "    if cat_ordi_features_mult.count(goal) !=0:\n",
    "        cat_ordi_features_mult.remove(goal)\n",
    "    if num_features.count(goal) !=0:\n",
    "        num_features.remove(goal)\n",
    "        L=False\n",
    "    model_name = classifier.__class__.__name__\n",
    "    num_pipeline = Pipeline([('std_scaler', StandardScaler())])\n",
    "    cat_pipeline = Pipeline([('imputer_cat', SimpleImputer(strategy='constant', fill_value='missing'))\n",
    "                             ,('1hot', OneHotEncoder(handle_unknown='ignore'))])\n",
    "    cat_ord_pipeline = Pipeline([('ordi',OrdinalEncoder(categories=[[0,1,2,3,4,5,6],[0,1,2,3,4,5,6],[0,1,2,3,4,5,6],[0,1,2,3,4,5,6],[0,1,2,3,4,5,6],[0,1,2,3,4,5,6],[0,1,2,3,4,5,6],[0,1,2,3,4,5,6],[0,1,2,3,4,5,6],[0,1,2,3,4,5,6],[0,1,2,3,4,5,6],[0,1,2,3,4,5,6],[0,1,2,3,4,5,6],[0,1,2,3,4,5,6],[0,1,2,3,4,5,6],[0,1,2,3,4,5,6],[0,1,2,3,4,5,6]]))])\n",
    "    preprocessor = ColumnTransformer([('num', num_pipeline, num_features),('cat', cat_pipeline, cat_features_mult),('cat_ordi',cat_ord_pipeline,cat_ordi_features_mult)])\n",
    "    pipe = Pipeline([('preprocessor', preprocessor),('params', classifier)])\n",
    "    y_train_predicted = cross_val_predict(pipe, X_train, y_train, cv=5)\n",
    "    model = pipe.fit(X_train, y_train)\n",
    "    y_test_predicted = model.predict(X_test)\n",
    "    print(model_name, goal)\n",
    "    print(\"Accuracy: {:.2f}\".format(accuracy_score(y_train, y_train_predicted)))\n",
    "    print(\"Recall: {:.2f}\".format(recall_score(y_train, y_train_predicted,average='micro',zero_division=1)))\n",
    "    print(\"Precision: {:.2f}\".format(precision_score(y_train, y_train_predicted,average='micro',zero_division=1)))\n",
    "    if L==True:\n",
    "        cat_ordi_features_mult.append(goal)\n",
    "    if L!=True:\n",
    "        num_features.append(goal)"
   ]
  },
  {
   "cell_type": "code",
   "execution_count": null,
   "metadata": {},
   "outputs": [],
   "source": [
    "list_multi = [GradientBoostingClassifier(learning_rate=0.01,max_depth=6,max_features=8,min_samples_leaf= 2,n_estimators= 500),\n",
    "              KNeighborsClassifier(leaf_size= 1,n_neighbors= 26),\n",
    "              DecisionTreeClassifier(max_depth=7,max_features=8,min_samples_leaf=0.1,min_samples_split=0.1),\n",
    "              SVC(kernel=\"rbf\", C=1),\n",
    "              AdaBoostClassifier(learning_rate=0.5,n_estimators=100)\n",
    "              ]\n",
    "features_multi = ['cannabis','alcohol','meth','crack','ecstasy']"
   ]
  },
  {
   "cell_type": "markdown",
   "metadata": {},
   "source": [
    "### Predicting multiclass classification (soft drugs, middle drugs, hard drugs)"
   ]
  },
  {
   "cell_type": "markdown",
   "metadata": {},
   "source": [
    "Predicting for soft drugs (alcohol, caffeine, choc, nicotine)"
   ]
  },
  {
   "cell_type": "code",
   "execution_count": null,
   "metadata": {},
   "outputs": [],
   "source": [
    "for k in soft_drugs:\n",
    "    for i in list_multi:\n",
    "        multclass(k,i)"
   ]
  },
  {
   "cell_type": "markdown",
   "metadata": {},
   "source": [
    "Prediction for middle drugs (amyl nitrite, cannabis, ecstasy, ketamine, lsd, legal highs, mushrooms, vsa)"
   ]
  },
  {
   "cell_type": "code",
   "execution_count": null,
   "metadata": {},
   "outputs": [],
   "source": [
    "for k in middle_drugs:\n",
    "    for i in list_multi:\n",
    "        multclass(k,i)"
   ]
  },
  {
   "cell_type": "markdown",
   "metadata": {},
   "source": [
    "Prediction for hard drugs (amphetamines, benzodiazepine, cocaine, crack, heroin, meth)"
   ]
  },
  {
   "cell_type": "code",
   "execution_count": null,
   "metadata": {},
   "outputs": [],
   "source": [
    "for k in hard_drugs:\n",
    "    for i in list_multi:\n",
    "        multclass(k,i)"
   ]
  },
  {
   "cell_type": "markdown",
   "metadata": {},
   "source": [
    "## Gridsearch for binary and multiclass classifiers"
   ]
  },
  {
   "cell_type": "markdown",
   "metadata": {},
   "source": [
    "Definition of parameters for every classifier used"
   ]
  },
  {
   "cell_type": "code",
   "execution_count": null,
   "metadata": {},
   "outputs": [],
   "source": [
    "param_gradbo = {'params__max_depth':[2,4,8],\n",
    "                'params__learning_rate': [0.01, 0.005,0.015],\n",
    "                'params__n_estimators':[100, 200],\n",
    "                'params__min_samples_leaf':[2,3],\n",
    "                'params__max_features':[2,5,8]\n",
    "               }\n",
    "param_kneigh = {'params__leaf_size':list(range(1,50)),\n",
    "                'params__n_neighbors':list(range(1,30)),\n",
    "               }\n",
    "param_dectree = {'params__min_samples_leaf':np.linspace(0.1, 0.5, 5, endpoint=True),\n",
    "                 'params__max_features':list(range(1,9)),\n",
    "                 'params__min_samples_split':np.linspace(0.1, 1.0, 5, endpoint=True),\n",
    "                 'params__max_depth':list(range(1,20))\n",
    "               }\n",
    "param_svc = {'params__kernel':[\"poly\",\"rbf\"],\n",
    "             'params__C':[0.01,0.1,1,10]\n",
    "               }\n",
    "param_ada = {'params__learning_rate':[0.01,0.05,0.1,0.5,1.0],\n",
    "             'params__n_estimators':[50,100,300,1000]\n",
    "            }\n",
    "param_logreg = {'params__class_weight':[{0:1000,1:100},{0:1000,1:10}, {0:1000,1:1.0}, \n",
    "     {0:500,1:1.0}, {0:400,1:1.0}, {0:300,1:1.0}, {0:200,1:1.0}, \n",
    "     {0:150,1:1.0}, {0:100,1:1.0}, {0:99,1:1.0}, {0:10,1:1.0}, \n",
    "     {0:0.01,1:1.0}, {0:0.01,1:10}, {0:0.01,1:100}, \n",
    "     {0:0.001,1:1.0}, {0:0.005,1:1.0}, {0:1.0,1:1.0}, \n",
    "     {0:1.0,1:0.1}, {0:10,1:0.1}, {0:100,1:0.1}, \n",
    "     {0:10,1:0.01}, {0:1.0,1:0.01}, {0:1.0,1:0.001}, {0:1.0,1:0.005}, \n",
    "     {0:1.0,1:10}, {0:1.0,1:99}, {0:1.0,1:100}, {0:1.0,1:150}, \n",
    "     {0:1.0,1:200}, {0:1.0,1:300},{0:1.0,1:400},{0:1.0,1:500}, \n",
    "     {0:1.0,1:1000}, {0:10,1:1000},{0:100,1:1000}],\n",
    "                'params__max_iter':[4000]\n",
    "               }"
   ]
  },
  {
   "cell_type": "markdown",
   "metadata": {},
   "source": [
    "### Gridsearch for binary classification"
   ]
  },
  {
   "cell_type": "markdown",
   "metadata": {},
   "source": [
    "Function for gridsearch of best parameters for binary classification. Takes the target, to be predicted, the classifier and parameters for the classifier."
   ]
  },
  {
   "cell_type": "code",
   "execution_count": 84,
   "metadata": {
    "ExecuteTime": {
     "end_time": "2020-07-05T13:23:01.933813Z",
     "start_time": "2020-07-05T13:23:01.922052Z"
    }
   },
   "outputs": [],
   "source": [
    "def gridclassifier(goal,classifier,params):\n",
    "    X_train, X_test, y_train, y_test = globals()[\"X_train_bin_\" + str(goal)],globals()[\"X_test_bin_\" + str(goal)],globals()[\"y_train_bin_\" + str(goal)],globals()[\"y_test_bin_\" + str(goal)]\n",
    "    if cat_features_bin.count(goal) !=0:\n",
    "        cat_features_bin.remove(goal)\n",
    "    model_name = classifier.__class__.__name__\n",
    "    num_pipeline = Pipeline([('std_scaler', StandardScaler())])\n",
    "    cat_pipeline = Pipeline([('imputer_cat', SimpleImputer(strategy='constant', fill_value='missing'))\n",
    "                             ,('1hot', OneHotEncoder(handle_unknown='ignore'))])\n",
    "    preprocessor = ColumnTransformer([('num', num_pipeline, num_features),('cat', cat_pipeline, cat_features_bin)])\n",
    "    pipe_randfor = Pipeline([('preprocessor', preprocessor),('params', classifier)])\n",
    "    grid_search = GridSearchCV(pipe_randfor, param_grid=params,verbose=5,scoring=\"roc_auc\", cv=100, n_jobs=-1)\n",
    "    grid_search.fit(X_train,y_train)\n",
    "    best_model = grid_search.best_estimator_\n",
    "    print('Best score:\\n{:.2f}'.format(grid_search.best_score_))\n",
    "    print(\"Best parameters:\\n{}\".format(grid_search.best_params_))\n",
    "    y_train_predicted = cross_val_predict(best_model, X_train, y_train, cv=5)\n",
    "    y_test_predicted = best_model.predict(X_test)\n",
    "    print(model_name, goal)\n",
    "    print(\"Accuracy: {:.2f}\".format(accuracy_score(y_test, y_test_predicted)))\n",
    "    print(\"Recall: {:.2f}\".format(recall_score(y_test, y_test_predicted,average='micro',zero_division=1)))\n",
    "    print(\"Precision: {:.2f}\".format(precision_score(y_test, y_test_predicted,average='micro',zero_division=1)))\n",
    "    print(confusion_matrix(y_test, y_test_predicted))\n",
    "    print(classification_report(y_test, y_test_predicted,zero_division=1))\n",
    "    cat_features_bin.append(goal)"
   ]
  },
  {
   "cell_type": "code",
   "execution_count": null,
   "metadata": {},
   "outputs": [],
   "source": [
    "gridclassifier('amyl_user',LogisticRegression(), param_logreg)"
   ]
  },
  {
   "cell_type": "markdown",
   "metadata": {},
   "source": [
    "### Gridsearch for multiclass classification"
   ]
  },
  {
   "cell_type": "markdown",
   "metadata": {},
   "source": [
    "Function for gridsearch of best parameters in multiclass classification. Takes the target, to be predicted, the classifier and parameters for the classifier."
   ]
  },
  {
   "cell_type": "code",
   "execution_count": 85,
   "metadata": {
    "ExecuteTime": {
     "end_time": "2020-07-05T13:23:22.232977Z",
     "start_time": "2020-07-05T13:23:22.217161Z"
    }
   },
   "outputs": [],
   "source": [
    "def gridregr(goal,classifier,params):\n",
    "    X_train, X_test, y_train, y_test = globals()[\"X_train_mult_\" + str(goal)],globals()[\"X_test_mult_\" + str(goal)],globals()[\"y_train_mult_\" + str(goal)],globals()[\"y_test_mult_\" + str(goal)]\n",
    "    if cat_ordi_features_mult.count(goal) !=0:\n",
    "        cat_ordi_features_mult.remove(goal)\n",
    "    model_name = classifier.__class__.__name__\n",
    "    num_pipeline = Pipeline([('std_scaler', StandardScaler())])\n",
    "    cat_pipeline = Pipeline([('imputer_cat', SimpleImputer(strategy='constant', fill_value='missing'))\n",
    "                             ,('1hot', OneHotEncoder(handle_unknown='ignore'))])\n",
    "    cat_ord_pipeline = Pipeline([('ordi',OrdinalEncoder(categories=[[0,1,2,3,4,5,6],[0,1,2,3,4,5,6],[0,1,2,3,4,5,6],[0,1,2,3,4,5,6],[0,1,2,3,4,5,6],[0,1,2,3,4,5,6],[0,1,2,3,4,5,6],[0,1,2,3,4,5,6],[0,1,2,3,4,5,6],[0,1,2,3,4,5,6],[0,1,2,3,4,5,6],[0,1,2,3,4,5,6],[0,1,2,3,4,5,6],[0,1,2,3,4,5,6],[0,1,2,3,4,5,6],[0,1,2,3,4,5,6],[0,1,2,3,4,5,6]]))])\n",
    "    preprocessor = ColumnTransformer([('num', num_pipeline, num_features),('cat', cat_pipeline, cat_features_mult),\n",
    "                                      ('cat_ordi',cat_ord_pipeline,cat_ordi_features_mult)])\n",
    "    pipe_randfor = Pipeline([('preprocessor', preprocessor),('params', classifier)])\n",
    "    grid_search = GridSearchCV(pipe_randfor, param_grid=params, cv=3,verbose=5, n_jobs=-1)\n",
    "    grid_search.fit(X_train,y_train)\n",
    "    best_model = grid_search.best_estimator_\n",
    "    print('Best score:\\n{:.2f}'.format(grid_search.best_score_))\n",
    "    print(\"Best parameters:\\n{}\".format(grid_search.best_params_))\n",
    "    y_train_predicted = cross_val_predict(best_model, X_train, y_train, cv=5)\n",
    "    y_test_predicted = best_model.predict(X_test)\n",
    "    print(model_name, goal)\n",
    "    print(\"Accuracy: {:.2f}\".format(accuracy_score(y_test, y_test_predicted)))\n",
    "    print(\"Recall: {:.2f}\".format(recall_score(y_test, y_test_predicted,average='micro',zero_division=1)))\n",
    "    print(\"Precision: {:.2f}\".format(precision_score(y_test, y_test_predicted,average='micro',zero_division=1)))\n",
    "    print(confusion_matrix(y_test, y_test_predicted))\n",
    "    print(classification_report(y_test, y_test_predicted,zero_division=1))\n",
    "    cat_ordi_features_mult.append(goal)"
   ]
  },
  {
   "cell_type": "markdown",
   "metadata": {},
   "source": [
    "Searching for the best parameters for each model"
   ]
  },
  {
   "cell_type": "code",
   "execution_count": 2,
   "metadata": {
    "ExecuteTime": {
     "end_time": "2020-07-05T11:55:20.259563Z",
     "start_time": "2020-07-05T11:55:20.120896Z"
    }
   },
   "outputs": [
    {
     "ename": "NameError",
     "evalue": "name 'gridregr' is not defined",
     "output_type": "error",
     "traceback": [
      "\u001b[0;31m---------------------------------------------------------------------------\u001b[0m",
      "\u001b[0;31mNameError\u001b[0m                                 Traceback (most recent call last)",
      "\u001b[0;32m<ipython-input-2-95291c6df1a4>\u001b[0m in \u001b[0;36m<module>\u001b[0;34m\u001b[0m\n\u001b[0;32m----> 1\u001b[0;31m \u001b[0mgridregr\u001b[0m\u001b[0;34m(\u001b[0m\u001b[0;34m'cannabis'\u001b[0m\u001b[0;34m,\u001b[0m \u001b[0mAdaBoostClassifier\u001b[0m\u001b[0;34m(\u001b[0m\u001b[0;34m)\u001b[0m\u001b[0;34m,\u001b[0m \u001b[0mparam_ada\u001b[0m\u001b[0;34m)\u001b[0m\u001b[0;34m\u001b[0m\u001b[0;34m\u001b[0m\u001b[0m\n\u001b[0m",
      "\u001b[0;31mNameError\u001b[0m: name 'gridregr' is not defined"
     ]
    }
   ],
   "source": [
    "gridregr('cannabis', AdaBoostClassifier(), param_ada)"
   ]
  },
  {
   "cell_type": "markdown",
   "metadata": {},
   "source": [
    "## Personal Analysis"
   ]
  },
  {
   "cell_type": "markdown",
   "metadata": {},
   "source": [
    "### Setup for personal analysis"
   ]
  },
  {
   "cell_type": "markdown",
   "metadata": {
    "ExecuteTime": {
     "end_time": "2020-07-05T13:23:31.064746Z",
     "start_time": "2020-07-05T13:23:31.060007Z"
    }
   },
   "source": [
    "Defining personal datasets for predicting potential drug usage"
   ]
  },
  {
   "cell_type": "code",
   "execution_count": 96,
   "metadata": {
    "ExecuteTime": {
     "end_time": "2020-07-05T13:27:13.739889Z",
     "start_time": "2020-07-05T13:27:13.726971Z"
    }
   },
   "outputs": [],
   "source": [
    "perso = pd.DataFrame([[1,6,-3.46436,-2.44904,-3.27393,-1.34289,-2.18109,-0.21712,-0.21575,6,0,0,0,6,0,4,0,0,0,0,0,0,0,0,0,3,0,0,1,0,0,1,0,1,0,0,0,0,0,0,0,0,0,0,0,0,1,0,0,0,1,0,0,0,0,0,0,0,0,0,1]],columns=df.columns)"
   ]
  },
  {
   "cell_type": "code",
   "execution_count": 97,
   "metadata": {
    "ExecuteTime": {
     "end_time": "2020-07-05T13:27:14.000741Z",
     "start_time": "2020-07-05T13:27:13.989486Z"
    }
   },
   "outputs": [],
   "source": [
    "perso2 = pd.DataFrame([[2,7,-2.34360,-1.92173,-1.27553,-1.62090,-3.46436,2.90161,1.92173,6,0,0,0,6,0,4,0,0,0,0,0,0,0,0,0,3,0,0,1,0,0,1,0,1,0,0,0,0,0,0,0,0,0,0,0,0,1,0,0,0,1,0,0,0,0,0,0,0,0,0,1]],columns=df.columns)"
   ]
  },
  {
   "cell_type": "code",
   "execution_count": 98,
   "metadata": {
    "ExecuteTime": {
     "end_time": "2020-07-05T13:27:14.396399Z",
     "start_time": "2020-07-05T13:27:14.391525Z"
    }
   },
   "outputs": [],
   "source": [
    "X = df[['age','education','Female','nscore','escore','oscore','ascore','cscore','impulsive','ss']]"
   ]
  },
  {
   "cell_type": "code",
   "execution_count": 99,
   "metadata": {
    "ExecuteTime": {
     "end_time": "2020-07-05T13:27:14.791966Z",
     "start_time": "2020-07-05T13:27:14.786585Z"
    }
   },
   "outputs": [],
   "source": [
    "X_perso = perso[['age','education','Female','nscore','escore','oscore','ascore','cscore','impulsive','ss']]"
   ]
  },
  {
   "cell_type": "markdown",
   "metadata": {},
   "source": [
    "### Function for getting recommendations for each substance"
   ]
  },
  {
   "cell_type": "code",
   "execution_count": 100,
   "metadata": {
    "ExecuteTime": {
     "end_time": "2020-07-05T13:27:17.386552Z",
     "start_time": "2020-07-05T13:27:17.381547Z"
    }
   },
   "outputs": [],
   "source": [
    "def perso_drug(X_perso,model):\n",
    "    recomm = {}\n",
    "    for i in drugs:\n",
    "        y = df[i]\n",
    "        model.fit(X,y)\n",
    "        recomm.update({str(i):int(model.predict(X_perso))})\n",
    "    return recomm"
   ]
  },
  {
   "cell_type": "code",
   "execution_count": 101,
   "metadata": {
    "ExecuteTime": {
     "end_time": "2020-07-05T13:27:17.746188Z",
     "start_time": "2020-07-05T13:27:17.628065Z"
    }
   },
   "outputs": [],
   "source": [
    "recomm = perso_drug(X_perso,KNeighborsClassifier(10))"
   ]
  },
  {
   "cell_type": "markdown",
   "metadata": {},
   "source": [
    "Creating new labels for each substance"
   ]
  },
  {
   "cell_type": "code",
   "execution_count": 102,
   "metadata": {
    "ExecuteTime": {
     "end_time": "2020-07-05T13:27:18.164326Z",
     "start_time": "2020-07-05T13:27:18.156805Z"
    }
   },
   "outputs": [],
   "source": [
    "recomm['alcohol'] = recomm.pop('alcohol')\n",
    "recomm['amphetamin'] = recomm.pop('amphet')\n",
    "recomm['amyl nitrite'] = recomm.pop('amyl')\n",
    "recomm['benzodiazepin'] = recomm.pop('benzos')\n",
    "recomm['caffeine'] = recomm.pop('caff')\n",
    "recomm['cannabis'] = recomm.pop('cannabis')\n",
    "recomm['chocolate'] = recomm.pop('choc')\n",
    "recomm['cocaine'] = recomm.pop('coke')\n",
    "recomm['crack'] = recomm.pop('crack')\n",
    "recomm['ecstasy'] = recomm.pop('ecstasy')\n",
    "recomm['heroin'] = recomm.pop('heroin')\n",
    "recomm['ketamine'] = recomm.pop('ketamine')\n",
    "recomm['legal highs'] = recomm.pop('legalh')\n",
    "recomm['lsd'] = recomm.pop('lsd')\n",
    "recomm['meth'] = recomm.pop('meth')\n",
    "recomm['mushrooms'] = recomm.pop('shrooms')\n",
    "recomm['nicotine'] = recomm.pop('nicotine')\n",
    "recomm['vsa'] = recomm.pop('vsa')"
   ]
  },
  {
   "cell_type": "markdown",
   "metadata": {},
   "source": [
    "### Plotting results from the personality test"
   ]
  },
  {
   "cell_type": "code",
   "execution_count": 103,
   "metadata": {
    "ExecuteTime": {
     "end_time": "2020-07-05T13:27:19.801768Z",
     "start_time": "2020-07-05T13:27:19.565815Z"
    }
   },
   "outputs": [
    {
     "data": {
      "image/png": "[encoded data removed]",
      "text/plain": [
       "<Figure size 460.8x288 with 1 Axes>"
      ]
     },
     "metadata": {
      "needs_background": "light"
     },
     "output_type": "display_data"
    }
   ],
   "source": [
    "plt.figure(figsize=(6.4,4))\n",
    "plt.rc('xtick', labelsize=14,)\n",
    "plt.rc('ytick', labelsize=14,)\n",
    "plt.bar(range(len(recomm)), recomm.values(), align='center')\n",
    "plt.xlabel('Masters degree',fontdict={'fontsize':14})\n",
    "plt.title('Substance usage', fontdict={'fontsize':20})\n",
    "plt.xticks(range(len(recomm)), list(recomm.keys()),rotation=90)\n",
    "plt.show()"
   ]
  },
  {
   "cell_type": "markdown",
   "metadata": {},
   "source": [
    "# Future work\n",
    "\n",
    "- Function for imbalanced binary classification using SMOTE\n",
    "\n",
    "- Focus on feature importance\n",
    "\n",
    "- Developing an easy to use implementation for the substance “recommendation”\n",
    "\n",
    "\n",
    "Questions to answer:\n",
    "\n",
    "- What kind of substances are becoming less interesting over time?\n"
   ]
  },
  {
   "cell_type": "markdown",
   "metadata": {
    "ExecuteTime": {
     "end_time": "2020-07-01T13:29:24.752006Z",
     "start_time": "2020-07-01T13:29:24.750004Z"
    }
   },
   "source": [
    "# Appendix"
   ]
  },
  {
   "cell_type": "markdown",
   "metadata": {},
   "source": [
    "## Score translation functions"
   ]
  },
  {
   "cell_type": "code",
   "execution_count": 35,
   "metadata": {
    "ExecuteTime": {
     "end_time": "2020-07-01T19:09:02.940884Z",
     "start_time": "2020-07-01T19:09:02.901857Z"
    }
   },
   "outputs": [],
   "source": [
    "def nscore_translator(n):\n",
    "    '''\n",
    "    GIves you the correlating z score to any n score and vice versa.\n",
    "    If n is a float it will be seen as a z score and be translated into a n score.\n",
    "    Returns False if translation can't be made.\n",
    "    '''    \n",
    "\n",
    "    dns = {12 : -3.46436,\n",
    "    13 : -3.15735 ,\n",
    "    30 : -0.58016 ,\n",
    "    47 : 1.13281,\n",
    "    14 : -2.75696, \n",
    "    31 : -0.46725 ,\n",
    "    48 : 1.23461,\n",
    "    15 : -2.52197,\n",
    "    32 : -0.34799 ,\n",
    "    49 : 1.37297,\n",
    "    16 : -2.42317, \n",
    "    33 : -0.24649,\n",
    "    50 : 1.49158,\n",
    "    17 : -2.34360, \n",
    "    34 : -0.14882 ,\n",
    "    51 : 1.60383,\n",
    "    18 : -2.21844, \n",
    "    35 : -0.05188 ,\n",
    "    52 : 1.72012,\n",
    "    19 : -2.05048, \n",
    "    36 : 0.04257 ,\n",
    "    53 : 1.83990,\n",
    "    20 : -1.86962, \n",
    "    37 : 0.13606 ,\n",
    "    54 : 1.98437,\n",
    "    21 : -1.69163, \n",
    "    38 : 0.22393 ,\n",
    "    55 : 2.12700,\n",
    "    22 : -1.55078, \n",
    "    39 : 0.31287 ,\n",
    "    56 : 2.28554,\n",
    "    23 : -1.43907, \n",
    "    40 : 0.41667 ,\n",
    "    57 : 2.46262,\n",
    "    24 : -1.32828, \n",
    "    41 : 0.52135 ,\n",
    "    58 : 2.61139,\n",
    "    25 : -1.19430, \n",
    "    42 : 0.62967 ,\n",
    "    59 : 2.82196,\n",
    "    26 : -1.05308, \n",
    "    43 : 0.73545 ,\n",
    "    60 : 3.27393,\n",
    "    27 : -0.92104, \n",
    "    44 : 0.82562,\n",
    "    28 : -0.79151, \n",
    "    45 : 0.91093,\n",
    "    29 : -0.67825, \n",
    "    46 : 1.02119}\n",
    "    \n",
    "    returnee = False\n",
    "    if type(n) == int  and (n in dns.keys()):\n",
    "        returnee = dns[n]\n",
    "    else:\n",
    "        if n in dns.values():\n",
    "            for key, value in dns.items():\n",
    "                if value == n:\n",
    "                    returnee = key\n",
    "    return returnee\n",
    "\n",
    "def escore_translator(n):\n",
    "    '''\n",
    "    GIves you the correlating z score to any n score and vice versa.\n",
    "    If n is a float it will be seen as a z score and be translated into a n score.\n",
    "    Returns False if translation can't be made.\n",
    "    '''    \n",
    "    des = {16 : -3.27393, 31 : -1.23177, 45 : 0.80523,\n",
    "    18 : -3.00537, 32 : -1.09207, 46 : 0.96248,\n",
    "    19 : -2.72827, 33 : -0.94779, 47 : 1.11406,\n",
    "    20 : -2.53830, 34 : -0.80615, 48 : 1.28610,\n",
    "    21 : -2.44904, 35 : -0.69509, 49 : 1.45421,\n",
    "    22 : -2.32338, 36 : -0.57545, 50 : 1.58487,\n",
    "    23 : -2.21069, 37 : -0.43999, 51 : 1.74091,\n",
    "    24 : -2.11437, 38 : -0.30033, 52 : 1.93886,\n",
    "    25 : -2.03972, 39 : -0.15487, 53 : 2.12700,\n",
    "    26 : -1.92173, 40 : 0.00332, 54 : 2.32338,\n",
    "    27 : -1.76250, 41 : 0.16767, 55 : 2.57309,\n",
    "    28 : -1.63340, 42 : 0.32197, 56 : 2.85950,\n",
    "    29 : -1.50796, 43 : 0.47617, 58 : 3.00537,\n",
    "    30 : -1.37639, 44 : 0.63779, 59 : 3.27393}\n",
    "    \n",
    "    returnee = False\n",
    "    if type(n) == int  and (n in des.keys()):\n",
    "        returnee = des[n]\n",
    "    else:\n",
    "        if n in dns.values():\n",
    "            for key, value in des.items():\n",
    "                if value == n:\n",
    "                    returnee = key\n",
    "    return returnee\n",
    "\n",
    "def oscore_translator(n):\n",
    "    '''\n",
    "    GIves you the correlating z score to any n score and vice versa.\n",
    "    If n is a float it will be seen as a z score and be translated into a n score.\n",
    "    Returns False if translation can't be made.\n",
    "    '''    \n",
    "    des = {24 : -3.27393, 38 : -1.11902, 50 : 0.58331,\n",
    "    26 : -2.85950, 39 : -0.97631, 51 : 0.72330,\n",
    "    28 : -2.63199, 40 : -0.84732, 52 : 0.88309,\n",
    "    29 : -2.39883, 41 : -0.71727, 53 : 1.06238,\n",
    "    30 : -2.21069, 42 : -0.58331, 54 : 1.24033,\n",
    "    31 : -2.09015, 43 : -0.45174, 55 : 1.43533,\n",
    "    32 : -1.97495, 44 : -0.31776, 56 : 1.65653,\n",
    "    33 : -1.82919, 45 : -0.17779, 57 : 1.88511,\n",
    "    34 : -1.68062, 46 : -0.01928, 58 : 2.15324,\n",
    "    35 : -1.55521, 47 : 0.14143 ,59 : 2.44904,\n",
    "    36 : -1.42424, 48 : 0.29338, 60 : 2.90161,\n",
    "    37 : -1.27553, 49 : 0.44585}\n",
    "    \n",
    "    returnee = False\n",
    "    if type(n) == int  and (n in des.keys()):\n",
    "        returnee = des[n]\n",
    "    else:\n",
    "        if n in dns.values():\n",
    "            for key, value in des.items():\n",
    "                if value == n:\n",
    "                    returnee = key\n",
    "    return returnee\n",
    "\n",
    "def ascore_translator(n):\n",
    "    '''\n",
    "    GIves you the correlating z score to any n score and vice versa.\n",
    "    If n is a float it will be seen as a z score and be translated into a n score.\n",
    "    Returns False if translation can't be made.\n",
    "    '''    \n",
    "    des = {12 : -3.46436, 34 : -1.34289, 48 : 0.76096,\n",
    "    16 : -3.15735, 35 : -1.21213, 49 : 0.94156,\n",
    "    18 : -3.00537, 36 : -1.07533, 50 : 1.11406,\n",
    "    23 : -2.90161, 37 : -0.91699, 51 : 1.2861,\n",
    "    24 : -2.78793, 38 : -0.76096, 52 : 1.45039,\n",
    "    25 : -2.70172, 39 : -0.60633, 53 : 1.61108,\n",
    "    26 : -2.53830, 40 : -0.45321, 54 : 1.81866,\n",
    "    27 : -2.35413, 41 : -0.30172, 55 : 2.03972,\n",
    "    28 : -2.21844, 42 : -0.15487, 56 : 2.23427,\n",
    "    29 : -2.07848, 43 : -0.01729, 57 : 2.46262,\n",
    "    30 : -1.92595, 44 : 0.13136, 58 : 2.75696,\n",
    "    31 : -1.77200, 45 : 0.28783, 59 : 3.15735,\n",
    "    32 : -1.62090, 46 : 0.43852, 60 : 3.46436,\n",
    "    33 : -1.47955, 47 : 0.59042}\n",
    "           \n",
    "    returnee = False\n",
    "    if type(n) == int  and (n in des.keys()):\n",
    "        returnee = des[n]\n",
    "    else:\n",
    "        if n in dns.values():\n",
    "            for key, value in des.items():\n",
    "                if value == n:\n",
    "                    returnee = key\n",
    "    return returnee\n",
    "\n",
    "def cscore_translator(n):\n",
    "    '''\n",
    "    GIves you the correlating z score to any n score and vice versa.\n",
    "    If n is a float it will be seen as a z score and be translated into a n score.\n",
    "    Returns False if translation can't be made.\n",
    "    '''    \n",
    "    des = {17 : -3.46436, 32 : -1.25773, 46 : 0.58489,\n",
    "    19 : -3.15735, 33 : -1.13788, 47 : 0.7583,\n",
    "    20 : -2.90161, 34 : -1.01450, 48 : 0.93949,\n",
    "    21 : -2.72827, 35 : -0.89891, 49 : 1.13407,\n",
    "    22 : -2.57309, 36 : -0.78155, 50 : 1.30612,\n",
    "    23 : -2.42317, 37 : -0.65253, 51 : 1.46191,\n",
    "    24 : -2.30408, 38 : -0.52745, 52 : 1.63088,\n",
    "    25 : -2.18109, 39 : -0.40581, 53 : 1.81175,\n",
    "    26 : -2.04506, 40 : -0.27607, 54 : 2.04506,\n",
    "    27 : -1.92173, 41 : -0.14277, 55 : 2.33337,\n",
    "    28 : -1.78169, 42 : -0.00665, 56 : 2.63199,\n",
    "    29 : -1.64101, 43 : 0.12331, 57 : 3.00537,\n",
    "    30 : -1.51840, 44 : 0.25953, 59 : 3.46436,\n",
    "    31 : -1.38502, 45 : 0.41594}\n",
    "           \n",
    "    returnee = False\n",
    "    if type(n) == int  and (n in des.keys()):\n",
    "        returnee = des[n]\n",
    "    else:\n",
    "        if n in dns.values():\n",
    "            for key, value in des.items():\n",
    "                if value == n:\n",
    "                    returnee = key\n",
    "    return returnee\n",
    "\n"
   ]
  },
  {
   "cell_type": "code",
   "execution_count": 36,
   "metadata": {
    "ExecuteTime": {
     "end_time": "2020-07-01T19:09:02.949397Z",
     "start_time": "2020-07-01T19:09:02.942401Z"
    }
   },
   "outputs": [
    {
     "data": {
      "text/plain": [
       "False"
      ]
     },
     "execution_count": 36,
     "metadata": {},
     "output_type": "execute_result"
    }
   ],
   "source": [
    "nscore_translator(80)"
   ]
  }
 ],
 "metadata": {
  "kernelspec": {
   "display_name": "Python 3",
   "language": "python",
   "name": "python3"
  },
  "language_info": {
   "codemirror_mode": {
    "name": "ipython",
    "version": 3
   },
   "file_extension": ".py",
   "mimetype": "text/x-python",
   "name": "python",
   "nbconvert_exporter": "python",
   "pygments_lexer": "ipython3",
   "version": "3.6.10"
  },
  "latex_envs": {
   "LaTeX_envs_menu_present": true,
   "autoclose": false,
   "autocomplete": true,
   "bibliofile": "biblio.bib",
   "cite_by": "apalike",
   "current_citInitial": 1,
   "eqLabelWithNumbers": true,
   "eqNumInitial": 1,
   "hotkeys": {
    "equation": "Ctrl-E",
    "itemize": "Ctrl-I"
   },
   "labels_anchors": false,
   "latex_user_defs": false,
   "report_style_numbering": false,
   "user_envs_cfg": false
  },
  "toc": {
   "base_numbering": 1,
   "nav_menu": {},
   "number_sections": true,
   "sideBar": true,
   "skip_h1_title": false,
   "title_cell": "Table of Contents",
   "title_sidebar": "Contents",
   "toc_cell": false,
   "toc_position": {},
   "toc_section_display": true,
   "toc_window_display": true
  },
  "varInspector": {
   "cols": {
    "lenName": 16,
    "lenType": 16,
    "lenVar": 40
   },
   "kernels_config": {
    "python": {
     "delete_cmd_postfix": "",
     "delete_cmd_prefix": "del ",
     "library": "var_list.py",
     "varRefreshCmd": "print(var_dic_list())"
    },
    "r": {
     "delete_cmd_postfix": ") ",
     "delete_cmd_prefix": "rm(",
     "library": "var_list.r",
     "varRefreshCmd": "cat(var_dic_list()) "
    }
   },
   "types_to_exclude": [
    "module",
    "function",
    "builtin_function_or_method",
    "instance",
    "_Feature"
   ],
   "window_display": false
  }
 },
 "nbformat": 4,
 "nbformat_minor": 4
}
